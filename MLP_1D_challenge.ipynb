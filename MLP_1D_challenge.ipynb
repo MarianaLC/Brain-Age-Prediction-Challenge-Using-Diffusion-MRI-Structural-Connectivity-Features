{
 "cells": [
  {
   "cell_type": "markdown",
   "metadata": {
    "tags": []
   },
   "source": [
    "# Brain Age Prediction Challenge using diffusion MRI structural connectivity features"
   ]
  },
  {
   "cell_type": "markdown",
   "metadata": {},
   "source": [
    "## Imports"
   ]
  },
  {
   "cell_type": "code",
   "execution_count": 1,
   "metadata": {},
   "outputs": [],
   "source": [
    "import warnings\n",
    "warnings.filterwarnings('ignore')"
   ]
  },
  {
   "cell_type": "code",
   "execution_count": 2,
   "metadata": {
    "tags": []
   },
   "outputs": [],
   "source": [
    "import pandas as pd\n",
    "import numpy as np\n",
    "import scipy.io\n",
    "import matplotlib.pyplot as plt\n",
    "from ipywidgets import widgets, interact\n",
    "import time\n",
    "\n",
    "from sklearn.preprocessing import OneHotEncoder\n",
    "import seaborn as sns\n",
    "\n",
    "import torch\n",
    "from torch.utils.data import Dataset\n",
    "from torch.utils.data import DataLoader\n",
    "from torch.utils.data import random_split\n",
    "from torch import Tensor\n",
    "import torch.nn as nn\n",
    "from torch.nn import BatchNorm1d\n",
    "from torch.nn import Dropout\n",
    "from torch.nn import Sequential\n",
    "from torch.nn import Linear\n",
    "from torch.nn import Conv1d\n",
    "from torch.nn import MaxPool1d\n",
    "from torch.nn import ReLU\n",
    "from torch.nn import Module\n",
    "from torch.nn import L1Loss\n",
    "from torch.optim import SGD, Adam, AdamW\n",
    "from torch.optim.lr_scheduler import StepLR\n",
    "from torch.optim.lr_scheduler import ReduceLROnPlateau\n",
    "\n",
    "from torch.nn.init import kaiming_uniform_\n",
    "from torch.nn.init import xavier_uniform_\n",
    "from torchinfo import summary\n",
    "\n",
    "from IPython.display import display\n",
    "from livelossplot import PlotLosses\n",
    "from functools import reduce\n",
    "\n",
    "from monai.networks.nets import FullyConnectedNet\n",
    "from captum.attr import FeaturePermutation, IntegratedGradients\n",
    "\n",
    "np.random.seed(0) \n",
    "torch.manual_seed(0)\n",
    "import random\n",
    "random.seed(0)"
   ]
  },
  {
   "cell_type": "markdown",
   "metadata": {},
   "source": [
    "## Constantes"
   ]
  },
  {
   "cell_type": "code",
   "execution_count": 3,
   "metadata": {},
   "outputs": [],
   "source": [
    "#path para guardar o dataset\n",
    "TRAIN_MAT_FILE = 'train_data.mat'\n",
    "TEST_MAT_FILE = 'test_data.mat'\n",
    "TRAIN_CSV_FILE = 'train.csv'\n",
    "TEST_CSV_FILE = 'test.csv'\n",
    "PATH_TRAIN = 'train_dataset.csv'\n",
    "PATH_TEST = 'test_dataset.csv'\n",
    "BATCH_SIZE = 1"
   ]
  },
  {
   "cell_type": "markdown",
   "metadata": {},
   "source": [
    "## Device Management"
   ]
  },
  {
   "cell_type": "code",
   "execution_count": 4,
   "metadata": {},
   "outputs": [
    {
     "name": "stdout",
     "output_type": "stream",
     "text": [
      "cuda\n"
     ]
    }
   ],
   "source": [
    "device = torch.device(\"cuda\" if torch.cuda.is_available() else \"cpu\")\n",
    "def get_default_device():\n",
    "    \"\"\"Pick GPU if available, else CPU\"\"\"\n",
    "    if torch.cuda.is_available():\n",
    "        return torch.device('cuda')\n",
    "    else:\n",
    "        return torch.device('cpu')\n",
    "\n",
    "def to_device(data, device):\n",
    "    \"\"\"Move tensor(s) to chosen device\"\"\"\n",
    "    if isinstance(data, (list,tuple)):\n",
    "        return [to_device(x, device) for x in data]\n",
    "    return data.to(device, non_blocking=True)\n",
    "\n",
    "class DeviceDataLoader():\n",
    "    \"\"\"Wrap a dataloader to move data to a device\"\"\"\n",
    "    def __init__(self, dl, device):\n",
    "        self.dl = dl\n",
    "        self.device = device\n",
    "        \n",
    "    def __iter__(self):\n",
    "        \"\"\"Yield a batch of data after moving it to device\"\"\"\n",
    "        for b in self.dl: \n",
    "            yield to_device(b, self.device)\n",
    "\n",
    "    def __len__(self):\n",
    "        \"\"\"Number of batches\"\"\"\n",
    "        return len(self.dl)\n",
    "\n",
    "device = get_default_device()\n",
    "print(device)"
   ]
  },
  {
   "cell_type": "markdown",
   "metadata": {
    "tags": []
   },
   "source": [
    "## 1. Preparar os Dados"
   ]
  },
  {
   "cell_type": "markdown",
   "metadata": {},
   "source": [
    "### 1.1 Leitura das matrizes de conetividade cerebral"
   ]
  },
  {
   "cell_type": "code",
   "execution_count": 5,
   "metadata": {},
   "outputs": [],
   "source": [
    "train_mat = scipy.io.loadmat(TRAIN_MAT_FILE) \n",
    "test_mat = scipy.io.loadmat(TEST_MAT_FILE) "
   ]
  },
  {
   "cell_type": "code",
   "execution_count": 6,
   "metadata": {},
   "outputs": [
    {
     "name": "stdout",
     "output_type": "stream",
     "text": [
      "dict_keys(['__header__', '__version__', '__globals__', 'train_data'])\n",
      "dict_keys(['__header__', '__version__', '__globals__', 'test_data'])\n",
      "(112, 90, 90)\n",
      "(28, 90, 90)\n"
     ]
    }
   ],
   "source": [
    "def get_data_from_mat(train_file,test_file):\n",
    "    train_mat = scipy.io.loadmat(train_file) \n",
    "    test_mat = scipy.io.loadmat(test_file) \n",
    "    print(train_mat.keys())\n",
    "    print(test_mat.keys())\n",
    "    train_np = np.array(train_mat['train_data']).transpose(2,0,1)\n",
    "    test_np = np.array(test_mat['test_data']).transpose(2,0,1)\n",
    "    train_np = np.float32(train_np)\n",
    "    test_np = np.float32(test_np)\n",
    "    print(train_np.shape)\n",
    "    print(test_np.shape)\n",
    "    return  train_np, test_np\n",
    "\n",
    "train_data, test_data = get_data_from_mat(TRAIN_MAT_FILE, TEST_MAT_FILE)"
   ]
  },
  {
   "cell_type": "code",
   "execution_count": 7,
   "metadata": {},
   "outputs": [
    {
     "name": "stdout",
     "output_type": "stream",
     "text": [
      "[[0.         0.         0.13152513 ... 0.         0.         0.        ]\n",
      " [0.         0.         0.         ... 0.         0.         0.        ]\n",
      " [0.13152513 0.         0.         ... 0.         0.         0.        ]\n",
      " ...\n",
      " [0.         0.         0.         ... 0.         0.         0.28060624]\n",
      " [0.         0.         0.         ... 0.         0.         0.        ]\n",
      " [0.         0.         0.         ... 0.28060624 0.         0.        ]]\n"
     ]
    }
   ],
   "source": [
    "print(train_data[0])"
   ]
  },
  {
   "cell_type": "code",
   "execution_count": 8,
   "metadata": {},
   "outputs": [
    {
     "data": {
      "text/html": [
       "<div>\n",
       "<style scoped>\n",
       "    .dataframe tbody tr th:only-of-type {\n",
       "        vertical-align: middle;\n",
       "    }\n",
       "\n",
       "    .dataframe tbody tr th {\n",
       "        vertical-align: top;\n",
       "    }\n",
       "\n",
       "    .dataframe thead th {\n",
       "        text-align: right;\n",
       "    }\n",
       "</style>\n",
       "<table border=\"1\" class=\"dataframe\">\n",
       "  <thead>\n",
       "    <tr style=\"text-align: right;\">\n",
       "      <th></th>\n",
       "      <th>label</th>\n",
       "      <th>list</th>\n",
       "    </tr>\n",
       "  </thead>\n",
       "  <tbody>\n",
       "    <tr>\n",
       "      <th>0</th>\n",
       "      <td>__header__</td>\n",
       "      <td>b'MATLAB 5.0 MAT-file, Platform: GLNXA64, Crea...</td>\n",
       "    </tr>\n",
       "    <tr>\n",
       "      <th>1</th>\n",
       "      <td>__version__</td>\n",
       "      <td>1.0</td>\n",
       "    </tr>\n",
       "    <tr>\n",
       "      <th>2</th>\n",
       "      <td>__globals__</td>\n",
       "      <td>[]</td>\n",
       "    </tr>\n",
       "    <tr>\n",
       "      <th>3</th>\n",
       "      <td>train_data</td>\n",
       "      <td>[[[0.0, 0.0, 0.0, 0.0, 0.0, 0.0, 0.0, 0.0, 0.0...</td>\n",
       "    </tr>\n",
       "  </tbody>\n",
       "</table>\n",
       "</div>"
      ],
      "text/plain": [
       "         label                                               list\n",
       "0   __header__  b'MATLAB 5.0 MAT-file, Platform: GLNXA64, Crea...\n",
       "1  __version__                                                1.0\n",
       "2  __globals__                                                 []\n",
       "3   train_data  [[[0.0, 0.0, 0.0, 0.0, 0.0, 0.0, 0.0, 0.0, 0.0..."
      ]
     },
     "execution_count": 8,
     "metadata": {},
     "output_type": "execute_result"
    }
   ],
   "source": [
    "mat = scipy.io.loadmat(TRAIN_MAT_FILE)\n",
    "pqr=pd.Series(mat)\n",
    "pd.DataFrame({'label':pqr.index, 'list':pqr.values})"
   ]
  },
  {
   "cell_type": "code",
   "execution_count": 9,
   "metadata": {},
   "outputs": [
    {
     "name": "stdout",
     "output_type": "stream",
     "text": [
      "__header__     b'MATLAB 5.0 MAT-file, Platform: GLNXA64, Crea...\n",
      "__version__                                                  1.0\n",
      "__globals__                                                   []\n",
      "train_data     [[[0.0, 0.0, 0.0, 0.0, 0.0, 0.0, 0.0, 0.0, 0.0...\n",
      "dtype: object\n"
     ]
    }
   ],
   "source": [
    "print(pqr)"
   ]
  },
  {
   "cell_type": "markdown",
   "metadata": {},
   "source": [
    "### 1.2 Visualização das matrizes de conetividade cerebral"
   ]
  },
  {
   "cell_type": "code",
   "execution_count": 10,
   "metadata": {},
   "outputs": [
    {
     "name": "stdout",
     "output_type": "stream",
     "text": [
      "ds shape: (112, 90, 90)\n",
      "ds max: 1.0\n",
      "ds min: 0.0\n",
      "ds average: 0.024116168\n"
     ]
    },
    {
     "data": {
      "application/vnd.jupyter.widget-view+json": {
       "model_id": "8cfb12acdbf542eaade9b949798a1909",
       "version_major": 2,
       "version_minor": 0
      },
      "text/plain": [
       "interactive(children=(IntSlider(value=55, description='scan_index', max=111), Output()), _dom_classes=('widget…"
      ]
     },
     "metadata": {},
     "output_type": "display_data"
    }
   ],
   "source": [
    "def visualize(image):  \n",
    "    #plt.figure(\"sample\", (12, 6))\n",
    "    #plt.subplot(1, 2, 1)\n",
    "    plt.imshow(image, cmap=\"gray\")    \n",
    "    #plt.subplot(1, 2, 2)\n",
    "    #plt.imshow(image, cmap=\"gray\")\n",
    "    plt.show()      \n",
    "\n",
    "\n",
    "#@interact\n",
    "def show_ds(ds):\n",
    "    print(\"ds shape:\",ds.shape)\n",
    "    print(\"ds max:\",np.max(ds))\n",
    "    print(\"ds min:\",np.min(ds))\n",
    "    print(\"ds average:\",np.average(ds))\n",
    "    @interact\n",
    "    def visualize_set(scan_index=(0,len(ds)-1)):\n",
    "        #print(scan_index)\n",
    "        visualize(ds[scan_index,:,:])\n",
    "\n",
    "show_ds(train_data)"
   ]
  },
  {
   "cell_type": "code",
   "execution_count": 11,
   "metadata": {},
   "outputs": [
    {
     "name": "stdout",
     "output_type": "stream",
     "text": [
      "ds shape: (28, 90, 90)\n",
      "ds max: 1.0\n",
      "ds min: 0.0\n",
      "ds average: 0.024994023\n"
     ]
    },
    {
     "data": {
      "application/vnd.jupyter.widget-view+json": {
       "model_id": "13ab6de0751d4701a566f24199d21bb5",
       "version_major": 2,
       "version_minor": 0
      },
      "text/plain": [
       "interactive(children=(IntSlider(value=13, description='scan_index', max=27), Output()), _dom_classes=('widget-…"
      ]
     },
     "metadata": {},
     "output_type": "display_data"
    }
   ],
   "source": [
    "show_ds(test_data)"
   ]
  },
  {
   "cell_type": "markdown",
   "metadata": {},
   "source": [
    "### 1.3 Conversão das matrizes em arrays 1D e eliminação dos valores a zero"
   ]
  },
  {
   "cell_type": "code",
   "execution_count": 12,
   "metadata": {},
   "outputs": [],
   "source": [
    "def create_CSV_files(train_mat_file, test_mat_file, train_csv_file, test_csv_file):\n",
    "    columns = set() #Duplicates Not Allowed :)\n",
    "\n",
    "    mat = scipy.io.loadmat(train_mat_file)\n",
    "    m = np.array(mat['train_data'])\n",
    "    ds = pd.read_csv(train_csv_file)\n",
    "    ds_c = ds.copy()\n",
    "    a, b, _ = m.shape\n",
    "    for i in range(a):\n",
    "        for j in range(i+1,b): #triangle\n",
    "            s = f\"{i+1}_{j+1}\" #Label description\n",
    "            a = m[i,j] #conection value for all subjects\n",
    "            tmp_ds = pd.DataFrame(a, columns=[s])\n",
    "            ds = ds.join(tmp_ds)\n",
    "            if (False and s in columns) or not (a[0] == a).all():\n",
    "                ds_c = ds_c.join(tmp_ds)\n",
    "                columns.add(s)\n",
    "    ds.to_csv(f'train_dataset_full.csv', index=False)\n",
    "    ds_c.to_csv(f'train_dataset.csv', index=False)\n",
    "    \n",
    "    #process test set\n",
    "    mat = scipy.io.loadmat(test_mat_file)\n",
    "    m = np.array(mat['test_data'])\n",
    "    ds = pd.read_csv(test_csv_file)\n",
    "    ds_c = ds.copy()\n",
    "    a, b, _ = m.shape\n",
    "    for i in range(a):\n",
    "        for j in range(i+1,b): #triangle\n",
    "            s = f\"{i+1}_{j+1}\" #Label description\n",
    "            a = m[i,j] #conection value value for all subjects\n",
    "            tmp_ds = pd.DataFrame(a, columns=[s])\n",
    "            ds = ds.join(tmp_ds)\n",
    "            if (True and s in columns) or not (a[0] == a).all(): #detect invariant (all equal 0)\n",
    "                ds_c = ds_c.join(tmp_ds)\n",
    "                columns.add(s)\n",
    "    ds.to_csv(f'test_dataset_full.csv', index=False)\n",
    "    ds_c.to_csv(f'test_dataset.csv', index=False)\n",
    "    \n",
    "#create CSV files with full ds for con1d and MLP processing\n",
    "#create_CSV_files(TRAIN_MAT_FILE, TEST_MAT_FILE, TRAIN_CSV_FILE, TEST_CSV_FILE)"
   ]
  },
  {
   "cell_type": "markdown",
   "metadata": {},
   "source": [
    "### 1.4 Preparação dos dataloaders"
   ]
  },
  {
   "cell_type": "code",
   "execution_count": 13,
   "metadata": {
    "tags": []
   },
   "outputs": [
    {
     "name": "stdout",
     "output_type": "stream",
     "text": [
      "Train\n",
      "torch.Size([1, 1205]) torch.Size([1])\n",
      "Val\n",
      "torch.Size([1, 1205]) torch.Size([1])\n"
     ]
    }
   ],
   "source": [
    "class CSVDataset(Dataset):\n",
    "    # ler o dataset\n",
    "    def __init__(self, path_train, path_test):\n",
    "\n",
    "        # ler o ficheiro csv para um dataframe\n",
    "        df_train = pd.read_csv(path_train, header=0)\n",
    "        df_test = pd.read_csv(path_test, header=0)\n",
    "        \n",
    "        #Normalização dos valores da matriz por coluna para o treino\n",
    "        for col in df_train.columns[4:]:\n",
    "            df_train[col] = (df_train[col] - df_train[col].min()) / (df_train[col].max() - df_train[col].min())  \n",
    "            \n",
    "        #Normalização dos valores da matriz por coluna para o teste\n",
    "        for col in df_test.columns[3:]:\n",
    "            df_test[col] = (df_test[col] - df_test[col].min()) / (df_test[col].max() - df_test[col].min())\n",
    "\n",
    "        #Normalização da coluna da education\n",
    "        df_train[\"education\"] = (df_train[\"education\"] - df_train[\"education\"].min()) / (df_train[\"education\"].max() - df_train[\"education\"].min())    \n",
    "        df_test[\"education\"] = (df_test[\"education\"] - df_test[\"education\"].min()) / (df_test[\"education\"].max() - df_test[\"education\"].min())    \n",
    "        \n",
    "        #creating instance of one-hot-encoder\n",
    "        encoder = OneHotEncoder(handle_unknown='ignore')\n",
    "\n",
    "        #perform one-hot encoding on 'sex' column \n",
    "        encoder_df_train = pd.DataFrame(encoder.fit_transform(df_train[['sex']]).toarray())\n",
    "        encoder_df_test = pd.DataFrame(encoder.fit_transform(df_test[['sex']]).toarray())\n",
    "\n",
    "        #merge one-hot encoded columns back with original DataFrame\n",
    "        df_train = df_train.join(encoder_df_train)\n",
    "        df_test = df_test.join(encoder_df_test)\n",
    "        \n",
    "        #drop 'sex' column\n",
    "        df_train.drop('sex', axis=1, inplace=True)\n",
    "        df_test.drop('sex', axis=1, inplace=True)\n",
    "        \n",
    "        # separar os inputs e os outputs\n",
    "        self.train = df_train.values[:,2:]\n",
    "        self.label = df_train.values[:,1]\n",
    "        self.test = df_test.values[:,1:]\n",
    "            \n",
    "        #Construção do dicionário\n",
    "        #Nomes das colunas\n",
    "        nome_colunas = df_train.columns.values.tolist()\n",
    "        del nome_colunas[0:2]\n",
    "        \n",
    "        self.lista_dic = []\n",
    "        for vetor in self.train:\n",
    "            dic = {}\n",
    "            for i, valor in enumerate(vetor):\n",
    "                for j, col in enumerate(nome_colunas):\n",
    "                    if i == j:\n",
    "                        dic[col] = valor\n",
    "            self.lista_dic.append(dic)\n",
    " \n",
    "        # garantir que os inputs e labels sejam floats \n",
    "        self.train = self.train.astype('float32')\n",
    "        self.label = self.label.astype('float32')\n",
    "        self.test = self.test.astype('float32')\n",
    "        \n",
    "        #Substituir os nan por 0\n",
    "        self.test = np.where(np.isnan(self.test), 0.0, self.test)\n",
    "                             \n",
    "    # número de casos no dataset\n",
    "    def __len__(self):\n",
    "        return len(self.x)\n",
    "    \n",
    "    # retornar um caso\n",
    "    def __getitem_test__(self, idx):\n",
    "        return [self.test[idx]]\n",
    "    \n",
    "    # retornar índices para casos de treino e de teste em formato flat (vetor)\n",
    "    def get_splits_flat(self):\n",
    "\n",
    "        train_data = torch.from_numpy(np.array(self.train))\n",
    "        label = torch.from_numpy(np.array(self.label))\n",
    "        test = torch.from_numpy(np.array(self.test))\n",
    "        \n",
    "        train = torch.utils.data.TensorDataset(train_data, label)\n",
    "        test = torch.utils.data.TensorDataset(test)\n",
    "        \n",
    "        return train, test, train_data, self.lista_dic\n",
    "    \n",
    "def prepare_data_loaders(path_train, path_test):\n",
    "    # criar uma instância do dataset\n",
    "    dataset = CSVDataset(path_train, path_test)\n",
    "    \n",
    "    # calcular split\n",
    "    train, test, train_data, lista_dic = dataset.get_splits_flat()\n",
    "    \n",
    "    #separação de treino e validação\n",
    "    train_size = int(0.9 * len(train))\n",
    "    val_size = len(train) - train_size\n",
    "    train, validation  = random_split(train, [train_size, val_size], generator=torch.Generator().manual_seed(42))\n",
    "   \n",
    "    # preparar data loaders\n",
    "    train_dl = DataLoader(train, batch_size=BATCH_SIZE, shuffle=True) \n",
    "    val_dl = DataLoader(validation, batch_size=BATCH_SIZE, shuffle=True)\n",
    "    test_dl = DataLoader(test, batch_size=BATCH_SIZE, shuffle=True)\n",
    "    train_dl_all = DataLoader(train, batch_size=len(train), shuffle=False)\n",
    "    val_dl_all = DataLoader(validation, batch_size=len(validation), shuffle=False)\n",
    "    test_dl_all = DataLoader(test, batch_size=len(test), shuffle=False)\n",
    "\n",
    "    return train_dl, val_dl, test_dl, train_dl_all, val_dl_all, test_dl_all, train_data, lista_dic\n",
    "\n",
    "# preparar os dados\n",
    "train_dl, val_dl, test_dl, train_dl_all, val_dl_all, test_dl_all, train_dados, lista_dic = prepare_data_loaders(PATH_TRAIN, PATH_TEST)\n",
    "\n",
    "# sanity check\n",
    "print(\"Train\")\n",
    "train_data, y = next(iter(train_dl))\n",
    "print(train_data.shape, y.shape)\n",
    "\n",
    "print(\"Val\")\n",
    "train_data, y = next(iter(val_dl))\n",
    "print(train_data.shape, y.shape)"
   ]
  },
  {
   "cell_type": "markdown",
   "metadata": {
    "tags": []
   },
   "source": [
    "## 2. Visualizar os Dados"
   ]
  },
  {
   "cell_type": "code",
   "execution_count": 14,
   "metadata": {},
   "outputs": [
    {
     "data": {
      "text/html": [
       "<div>\n",
       "<style scoped>\n",
       "    .dataframe tbody tr th:only-of-type {\n",
       "        vertical-align: middle;\n",
       "    }\n",
       "\n",
       "    .dataframe tbody tr th {\n",
       "        vertical-align: top;\n",
       "    }\n",
       "\n",
       "    .dataframe thead th {\n",
       "        text-align: right;\n",
       "    }\n",
       "</style>\n",
       "<table border=\"1\" class=\"dataframe\">\n",
       "  <thead>\n",
       "    <tr style=\"text-align: right;\">\n",
       "      <th></th>\n",
       "      <th>id</th>\n",
       "      <th>age</th>\n",
       "      <th>sex</th>\n",
       "      <th>education</th>\n",
       "      <th>1_3</th>\n",
       "      <th>1_4</th>\n",
       "      <th>1_7</th>\n",
       "      <th>1_11</th>\n",
       "      <th>1_13</th>\n",
       "      <th>1_17</th>\n",
       "      <th>...</th>\n",
       "      <th>83_89</th>\n",
       "      <th>84_86</th>\n",
       "      <th>84_88</th>\n",
       "      <th>84_90</th>\n",
       "      <th>85_87</th>\n",
       "      <th>85_89</th>\n",
       "      <th>86_88</th>\n",
       "      <th>86_90</th>\n",
       "      <th>87_89</th>\n",
       "      <th>88_90</th>\n",
       "    </tr>\n",
       "  </thead>\n",
       "  <tbody>\n",
       "    <tr>\n",
       "      <th>0</th>\n",
       "      <td>1</td>\n",
       "      <td>13</td>\n",
       "      <td>1</td>\n",
       "      <td>7</td>\n",
       "      <td>0.131525</td>\n",
       "      <td>0.0</td>\n",
       "      <td>0.271538</td>\n",
       "      <td>0.374434</td>\n",
       "      <td>0.039427</td>\n",
       "      <td>0.076948</td>\n",
       "      <td>...</td>\n",
       "      <td>0.000000</td>\n",
       "      <td>0.028046</td>\n",
       "      <td>0.573282</td>\n",
       "      <td>0.000000</td>\n",
       "      <td>0.239553</td>\n",
       "      <td>0.585254</td>\n",
       "      <td>0.162305</td>\n",
       "      <td>0.585006</td>\n",
       "      <td>0.276153</td>\n",
       "      <td>0.280606</td>\n",
       "    </tr>\n",
       "    <tr>\n",
       "      <th>1</th>\n",
       "      <td>2</td>\n",
       "      <td>14</td>\n",
       "      <td>0</td>\n",
       "      <td>8</td>\n",
       "      <td>0.117704</td>\n",
       "      <td>0.0</td>\n",
       "      <td>0.316890</td>\n",
       "      <td>0.359445</td>\n",
       "      <td>0.049076</td>\n",
       "      <td>0.096582</td>\n",
       "      <td>...</td>\n",
       "      <td>0.000000</td>\n",
       "      <td>0.021593</td>\n",
       "      <td>0.576865</td>\n",
       "      <td>0.000000</td>\n",
       "      <td>0.193739</td>\n",
       "      <td>0.631275</td>\n",
       "      <td>0.171084</td>\n",
       "      <td>0.599437</td>\n",
       "      <td>0.320557</td>\n",
       "      <td>0.207478</td>\n",
       "    </tr>\n",
       "    <tr>\n",
       "      <th>2</th>\n",
       "      <td>3</td>\n",
       "      <td>15</td>\n",
       "      <td>1</td>\n",
       "      <td>9</td>\n",
       "      <td>0.155806</td>\n",
       "      <td>0.0</td>\n",
       "      <td>0.348072</td>\n",
       "      <td>0.335944</td>\n",
       "      <td>0.045267</td>\n",
       "      <td>0.070500</td>\n",
       "      <td>...</td>\n",
       "      <td>0.000000</td>\n",
       "      <td>0.038532</td>\n",
       "      <td>0.665572</td>\n",
       "      <td>0.000000</td>\n",
       "      <td>0.252137</td>\n",
       "      <td>0.625163</td>\n",
       "      <td>0.202426</td>\n",
       "      <td>0.630374</td>\n",
       "      <td>0.271738</td>\n",
       "      <td>0.246472</td>\n",
       "    </tr>\n",
       "    <tr>\n",
       "      <th>3</th>\n",
       "      <td>4</td>\n",
       "      <td>15</td>\n",
       "      <td>1</td>\n",
       "      <td>9</td>\n",
       "      <td>0.145214</td>\n",
       "      <td>0.0</td>\n",
       "      <td>0.310270</td>\n",
       "      <td>0.320711</td>\n",
       "      <td>0.025480</td>\n",
       "      <td>0.073450</td>\n",
       "      <td>...</td>\n",
       "      <td>0.012246</td>\n",
       "      <td>0.028526</td>\n",
       "      <td>0.557595</td>\n",
       "      <td>0.000000</td>\n",
       "      <td>0.228784</td>\n",
       "      <td>0.599624</td>\n",
       "      <td>0.178689</td>\n",
       "      <td>0.562505</td>\n",
       "      <td>0.390434</td>\n",
       "      <td>0.287888</td>\n",
       "    </tr>\n",
       "    <tr>\n",
       "      <th>4</th>\n",
       "      <td>5</td>\n",
       "      <td>15</td>\n",
       "      <td>1</td>\n",
       "      <td>9</td>\n",
       "      <td>0.161360</td>\n",
       "      <td>0.0</td>\n",
       "      <td>0.385560</td>\n",
       "      <td>0.284115</td>\n",
       "      <td>0.012964</td>\n",
       "      <td>0.051453</td>\n",
       "      <td>...</td>\n",
       "      <td>0.000000</td>\n",
       "      <td>0.062636</td>\n",
       "      <td>0.512645</td>\n",
       "      <td>0.000000</td>\n",
       "      <td>0.204526</td>\n",
       "      <td>0.548259</td>\n",
       "      <td>0.188561</td>\n",
       "      <td>0.564043</td>\n",
       "      <td>0.279060</td>\n",
       "      <td>0.234284</td>\n",
       "    </tr>\n",
       "    <tr>\n",
       "      <th>...</th>\n",
       "      <td>...</td>\n",
       "      <td>...</td>\n",
       "      <td>...</td>\n",
       "      <td>...</td>\n",
       "      <td>...</td>\n",
       "      <td>...</td>\n",
       "      <td>...</td>\n",
       "      <td>...</td>\n",
       "      <td>...</td>\n",
       "      <td>...</td>\n",
       "      <td>...</td>\n",
       "      <td>...</td>\n",
       "      <td>...</td>\n",
       "      <td>...</td>\n",
       "      <td>...</td>\n",
       "      <td>...</td>\n",
       "      <td>...</td>\n",
       "      <td>...</td>\n",
       "      <td>...</td>\n",
       "      <td>...</td>\n",
       "      <td>...</td>\n",
       "    </tr>\n",
       "    <tr>\n",
       "      <th>107</th>\n",
       "      <td>108</td>\n",
       "      <td>77</td>\n",
       "      <td>1</td>\n",
       "      <td>4</td>\n",
       "      <td>0.215767</td>\n",
       "      <td>0.0</td>\n",
       "      <td>0.390332</td>\n",
       "      <td>0.323281</td>\n",
       "      <td>0.016495</td>\n",
       "      <td>0.173735</td>\n",
       "      <td>...</td>\n",
       "      <td>0.020809</td>\n",
       "      <td>0.068060</td>\n",
       "      <td>0.642312</td>\n",
       "      <td>0.011150</td>\n",
       "      <td>0.322259</td>\n",
       "      <td>0.577230</td>\n",
       "      <td>0.243250</td>\n",
       "      <td>0.660292</td>\n",
       "      <td>0.349307</td>\n",
       "      <td>0.302675</td>\n",
       "    </tr>\n",
       "    <tr>\n",
       "      <th>108</th>\n",
       "      <td>109</td>\n",
       "      <td>67</td>\n",
       "      <td>0</td>\n",
       "      <td>4</td>\n",
       "      <td>0.143005</td>\n",
       "      <td>0.0</td>\n",
       "      <td>0.306380</td>\n",
       "      <td>0.364617</td>\n",
       "      <td>0.038558</td>\n",
       "      <td>0.104152</td>\n",
       "      <td>...</td>\n",
       "      <td>0.035670</td>\n",
       "      <td>0.149592</td>\n",
       "      <td>0.677867</td>\n",
       "      <td>0.019141</td>\n",
       "      <td>0.520065</td>\n",
       "      <td>0.607572</td>\n",
       "      <td>0.334296</td>\n",
       "      <td>0.630415</td>\n",
       "      <td>0.281757</td>\n",
       "      <td>0.204125</td>\n",
       "    </tr>\n",
       "    <tr>\n",
       "      <th>109</th>\n",
       "      <td>110</td>\n",
       "      <td>55</td>\n",
       "      <td>0</td>\n",
       "      <td>4</td>\n",
       "      <td>0.116085</td>\n",
       "      <td>0.0</td>\n",
       "      <td>0.290941</td>\n",
       "      <td>0.338786</td>\n",
       "      <td>0.022698</td>\n",
       "      <td>0.128278</td>\n",
       "      <td>...</td>\n",
       "      <td>0.025797</td>\n",
       "      <td>0.054745</td>\n",
       "      <td>0.526207</td>\n",
       "      <td>0.000000</td>\n",
       "      <td>0.320151</td>\n",
       "      <td>0.595534</td>\n",
       "      <td>0.210325</td>\n",
       "      <td>0.574355</td>\n",
       "      <td>0.444044</td>\n",
       "      <td>0.246784</td>\n",
       "    </tr>\n",
       "    <tr>\n",
       "      <th>110</th>\n",
       "      <td>111</td>\n",
       "      <td>76</td>\n",
       "      <td>1</td>\n",
       "      <td>3</td>\n",
       "      <td>0.156654</td>\n",
       "      <td>0.0</td>\n",
       "      <td>0.357540</td>\n",
       "      <td>0.365350</td>\n",
       "      <td>0.031100</td>\n",
       "      <td>0.097411</td>\n",
       "      <td>...</td>\n",
       "      <td>0.000000</td>\n",
       "      <td>0.060231</td>\n",
       "      <td>0.525995</td>\n",
       "      <td>0.000000</td>\n",
       "      <td>0.246402</td>\n",
       "      <td>0.611439</td>\n",
       "      <td>0.220760</td>\n",
       "      <td>0.631057</td>\n",
       "      <td>0.363958</td>\n",
       "      <td>0.216259</td>\n",
       "    </tr>\n",
       "    <tr>\n",
       "      <th>111</th>\n",
       "      <td>112</td>\n",
       "      <td>69</td>\n",
       "      <td>0</td>\n",
       "      <td>4</td>\n",
       "      <td>0.114586</td>\n",
       "      <td>0.0</td>\n",
       "      <td>0.283916</td>\n",
       "      <td>0.400293</td>\n",
       "      <td>0.057618</td>\n",
       "      <td>0.131278</td>\n",
       "      <td>...</td>\n",
       "      <td>0.010692</td>\n",
       "      <td>0.169360</td>\n",
       "      <td>0.608985</td>\n",
       "      <td>0.000000</td>\n",
       "      <td>0.259620</td>\n",
       "      <td>0.621185</td>\n",
       "      <td>0.350466</td>\n",
       "      <td>0.655354</td>\n",
       "      <td>0.284612</td>\n",
       "      <td>0.274812</td>\n",
       "    </tr>\n",
       "  </tbody>\n",
       "</table>\n",
       "<p>112 rows × 1206 columns</p>\n",
       "</div>"
      ],
      "text/plain": [
       "      id  age  sex  education       1_3  1_4       1_7      1_11      1_13  \\\n",
       "0      1   13    1          7  0.131525  0.0  0.271538  0.374434  0.039427   \n",
       "1      2   14    0          8  0.117704  0.0  0.316890  0.359445  0.049076   \n",
       "2      3   15    1          9  0.155806  0.0  0.348072  0.335944  0.045267   \n",
       "3      4   15    1          9  0.145214  0.0  0.310270  0.320711  0.025480   \n",
       "4      5   15    1          9  0.161360  0.0  0.385560  0.284115  0.012964   \n",
       "..   ...  ...  ...        ...       ...  ...       ...       ...       ...   \n",
       "107  108   77    1          4  0.215767  0.0  0.390332  0.323281  0.016495   \n",
       "108  109   67    0          4  0.143005  0.0  0.306380  0.364617  0.038558   \n",
       "109  110   55    0          4  0.116085  0.0  0.290941  0.338786  0.022698   \n",
       "110  111   76    1          3  0.156654  0.0  0.357540  0.365350  0.031100   \n",
       "111  112   69    0          4  0.114586  0.0  0.283916  0.400293  0.057618   \n",
       "\n",
       "         1_17  ...     83_89     84_86     84_88     84_90     85_87  \\\n",
       "0    0.076948  ...  0.000000  0.028046  0.573282  0.000000  0.239553   \n",
       "1    0.096582  ...  0.000000  0.021593  0.576865  0.000000  0.193739   \n",
       "2    0.070500  ...  0.000000  0.038532  0.665572  0.000000  0.252137   \n",
       "3    0.073450  ...  0.012246  0.028526  0.557595  0.000000  0.228784   \n",
       "4    0.051453  ...  0.000000  0.062636  0.512645  0.000000  0.204526   \n",
       "..        ...  ...       ...       ...       ...       ...       ...   \n",
       "107  0.173735  ...  0.020809  0.068060  0.642312  0.011150  0.322259   \n",
       "108  0.104152  ...  0.035670  0.149592  0.677867  0.019141  0.520065   \n",
       "109  0.128278  ...  0.025797  0.054745  0.526207  0.000000  0.320151   \n",
       "110  0.097411  ...  0.000000  0.060231  0.525995  0.000000  0.246402   \n",
       "111  0.131278  ...  0.010692  0.169360  0.608985  0.000000  0.259620   \n",
       "\n",
       "        85_89     86_88     86_90     87_89     88_90  \n",
       "0    0.585254  0.162305  0.585006  0.276153  0.280606  \n",
       "1    0.631275  0.171084  0.599437  0.320557  0.207478  \n",
       "2    0.625163  0.202426  0.630374  0.271738  0.246472  \n",
       "3    0.599624  0.178689  0.562505  0.390434  0.287888  \n",
       "4    0.548259  0.188561  0.564043  0.279060  0.234284  \n",
       "..        ...       ...       ...       ...       ...  \n",
       "107  0.577230  0.243250  0.660292  0.349307  0.302675  \n",
       "108  0.607572  0.334296  0.630415  0.281757  0.204125  \n",
       "109  0.595534  0.210325  0.574355  0.444044  0.246784  \n",
       "110  0.611439  0.220760  0.631057  0.363958  0.216259  \n",
       "111  0.621185  0.350466  0.655354  0.284612  0.274812  \n",
       "\n",
       "[112 rows x 1206 columns]"
      ]
     },
     "metadata": {},
     "output_type": "display_data"
    },
    {
     "name": "stdout",
     "output_type": "stream",
     "text": [
      "Quantidade de casos de Treino:100\n",
      "Shape tensor batch casos treino, input: torch.Size([100, 1205]), output: torch.Size([100])\n",
      "Valor máximo no treino :1.0 Valor mínimo:0.0\n",
      "Valor máximo na idade :77.0 Valor mínimo:13.0\n",
      "Quantidade de casos de Validação:12\n",
      "Shape tensor batch casos validação, input: torch.Size([12, 1205]), output: torch.Size([12])\n",
      "Valor máximo na validação :1.0 Valor mínimo:0.0\n",
      "Valor máximo na idade :79.0 Valor mínimo:16.0\n",
      "Quantidade de casos de Teste:28\n",
      "Shape tensor batch casos teste: torch.Size([28, 1205])\n",
      "Valor máximo no teste :1.0 Valor mínimo:0.0\n"
     ]
    }
   ],
   "source": [
    "def visualize_data(path):\n",
    "    # criar uma instância do dataset\n",
    "    df = pd.read_csv(path, header=0)\n",
    "    display(df)\n",
    "\n",
    "def visualize_dataset():\n",
    "     \n",
    "    print(f\"Quantidade de casos de Treino:{len(train_dl_all.dataset)}\") \n",
    "    train_data, y = next(iter(train_dl_all)) \n",
    "    print(f\"Shape tensor batch casos treino, input: {train_data.shape}, output: {y.shape}\")\n",
    "    print(f'Valor máximo no treino :{torch.max(train_data)} Valor mínimo:{torch.min(train_data)}')\n",
    "    print(f'Valor máximo na idade :{torch.max(y)} Valor mínimo:{torch.min(y)}')\n",
    "    \n",
    "    print(f\"Quantidade de casos de Validação:{len(val_dl_all.dataset)}\")\n",
    "    train_data, y = next(iter(val_dl_all)) \n",
    "    print(f\"Shape tensor batch casos validação, input: {train_data.shape}, output: {y.shape}\")\n",
    "    print(f'Valor máximo na validação :{torch.max(train_data)} Valor mínimo:{torch.min(train_data)}')\n",
    "    print(f'Valor máximo na idade :{torch.max(y)} Valor mínimo:{torch.min(y)}')\n",
    "    \n",
    "    print(f\"Quantidade de casos de Teste:{len(test_dl_all.dataset)}\")\n",
    "    test_data = next(iter(test_dl_all)) \n",
    "    print(f\"Shape tensor batch casos teste: {test_data[0].shape}\")\n",
    "    print(f'Valor máximo no teste :{torch.max(test_data[0])} Valor mínimo:{torch.min(test_data[0])}')\n",
    "\n",
    "visualize_data(PATH_TRAIN)\n",
    "visualize_dataset()"
   ]
  },
  {
   "cell_type": "markdown",
   "metadata": {
    "tags": []
   },
   "source": [
    "## 3. Verificar balanceamento do dataset"
   ]
  },
  {
   "cell_type": "code",
   "execution_count": 15,
   "metadata": {},
   "outputs": [
    {
     "name": "stdout",
     "output_type": "stream",
     "text": [
      "casos_treino:  100\n",
      "Média_valores_label_Train:  44.03\n",
      "['13.0', '14.0', '15.0', '16.0', '17.0', '18.0', '19.0', '20.0', '21.0', '22.0', '24.0', '25.0', '27.0', '31.0', '40.0', '41.0', '42.0', '46.0', '51.0', '52.0', '53.0', '54.0', '55.0', '56.0', '57.0', '58.0', '59.0', '61.0', '62.0', '63.0', '64.0', '65.0', '66.0', '67.0', '68.0', '69.0', '70.0', '71.0', '72.0', '73.0', '74.0', '76.0', '77.0']\n",
      "[1 1 7 7 2 5 3 2 1 2 4 4 3 1 2 1 1 1 2 1 1 1 3 2 2 3 2 1 3 3 1 2 1 1 3 6 1\n",
      " 4 1 1 1 4 2]\n",
      "100\n"
     ]
    },
    {
     "data": {
      "image/png": "[encoded data removed]",
      "text/plain": [
       "<Figure size 432x288 with 1 Axes>"
      ]
     },
     "metadata": {},
     "output_type": "display_data"
    },
    {
     "name": "stdout",
     "output_type": "stream",
     "text": [
      "casos_validacao:  12\n",
      "Média_valores_label_Val:  46.666668\n",
      "['16.0', '24.0', '26.0', '28.0', '33.0', '37.0', '53.0', '58.0', '64.0', '68.0', '74.0', '79.0']\n",
      "[1 1 1 1 1 1 1 1 1 1 1 1]\n",
      "12\n"
     ]
    },
    {
     "data": {
      "image/png": "[encoded data removed]",
      "text/plain": [
       "<Figure size 432x288 with 1 Axes>"
      ]
     },
     "metadata": {},
     "output_type": "display_data"
    }
   ],
   "source": [
    "def visualize_holdout_balance():\n",
    "    _, y_train = next(iter(train_dl_all))\n",
    "    _, y_val = next(iter(val_dl_all))\n",
    "    sns.set_style('whitegrid')\n",
    "    casos_treino=len(y_train) \n",
    "    casos_validacao=len(y_val)\n",
    "    print(\"casos_treino: \",casos_treino)\n",
    "    print(\"Média_valores_label_Train: \", np.mean(y_train.numpy()))\n",
    "    \n",
    "    sns.set_style('whitegrid')\n",
    "    x, y = np.unique(y_train, return_counts=True)\n",
    "    x=[str(n) for n in x]\n",
    "    print(x)\n",
    "    print(y)\n",
    "    print(np.sum(y))\n",
    "    grafico=sns.barplot(x, y)\n",
    "    grafico.set_title('Data balance in Training')\n",
    "    plt.xticks(rotation=70)\n",
    "    plt.tight_layout()\n",
    "    plt.show() \n",
    "    \n",
    "    print(\"casos_validacao: \",casos_validacao)\n",
    "    print(\"Média_valores_label_Val: \", np.mean(y_val.numpy()))\n",
    "    sns.set_style('whitegrid')\n",
    "    x, y = np.unique(y_val, return_counts=True)\n",
    "    x=[str(n) for n in x]\n",
    "    print(x)\n",
    "    print(y)\n",
    "    print(np.sum(y))\n",
    "    grafico=sns.barplot(x, y)\n",
    "    grafico.set_title('Data balance in Validation')\n",
    "    plt.xticks(rotation=70)\n",
    "    plt.tight_layout()\n",
    "    plt.show() \n",
    "    \n",
    "visualize_holdout_balance()"
   ]
  },
  {
   "cell_type": "markdown",
   "metadata": {
    "tags": []
   },
   "source": [
    "## 4. Definir o Modelo"
   ]
  },
  {
   "cell_type": "code",
   "execution_count": 16,
   "metadata": {},
   "outputs": [
    {
     "name": "stdout",
     "output_type": "stream",
     "text": [
      "==========================================================================================\n",
      "Layer (type:depth-idx)                   Output Shape              Param #\n",
      "==========================================================================================\n",
      "MLP                                      [1, 1]                    --\n",
      "├─Linear: 1-1                            [1, 100]                  120,600\n",
      "├─ReLU: 1-2                              [1, 100]                  --\n",
      "├─Dropout: 1-3                           [1, 100]                  --\n",
      "├─Linear: 1-4                            [1, 100]                  10,100\n",
      "├─ReLU: 1-5                              [1, 100]                  --\n",
      "├─Dropout: 1-6                           [1, 100]                  --\n",
      "├─Linear: 1-7                            [1, 100]                  10,100\n",
      "├─ReLU: 1-8                              [1, 100]                  --\n",
      "├─Linear: 1-9                            [1, 10]                   1,010\n",
      "├─ReLU: 1-10                             [1, 10]                   --\n",
      "├─Linear: 1-11                           [1, 1]                    11\n",
      "==========================================================================================\n",
      "Total params: 141,821\n",
      "Trainable params: 141,821\n",
      "Non-trainable params: 0\n",
      "Total mult-adds (M): 0.14\n",
      "==========================================================================================\n",
      "Input size (MB): 0.00\n",
      "Forward/backward pass size (MB): 0.00\n",
      "Params size (MB): 0.57\n",
      "Estimated Total Size (MB): 0.57\n",
      "==========================================================================================\n"
     ]
    },
    {
     "data": {
      "text/plain": [
       "MLP(\n",
       "  (fc1): Linear(in_features=1205, out_features=100, bias=True)\n",
       "  (act1): ReLU()\n",
       "  (drop1): Dropout(p=0.5, inplace=False)\n",
       "  (fc3): Linear(in_features=100, out_features=100, bias=True)\n",
       "  (act3): ReLU()\n",
       "  (drop3): Dropout(p=0.5, inplace=False)\n",
       "  (fc9): Linear(in_features=100, out_features=100, bias=True)\n",
       "  (act9): ReLU()\n",
       "  (fc10): Linear(in_features=100, out_features=10, bias=True)\n",
       "  (act10): ReLU()\n",
       "  (fc11): Linear(in_features=10, out_features=1, bias=True)\n",
       ")"
      ]
     },
     "execution_count": 16,
     "metadata": {},
     "output_type": "execute_result"
    }
   ],
   "source": [
    "# Definição classe para o modelo\n",
    "class MLP(Module):\n",
    "    # definir elementos do modelo\n",
    "    def __init__(self):\n",
    "        super(MLP, self).__init__()\n",
    "        self.fc1 = Linear(in_features=1205, out_features=100) \n",
    "        kaiming_uniform_(self.fc1.weight, nonlinearity='relu')\n",
    "        self.act1 = ReLU()\n",
    "        self.drop1 = nn.Dropout(0.50)\n",
    "        self.fc3 = Linear(in_features=100, out_features=100) \n",
    "        kaiming_uniform_(self.fc3.weight, nonlinearity='relu')\n",
    "        self.act3 = ReLU()\n",
    "        self.drop3 = nn.Dropout(0.50)\n",
    "        #self.fc5 = Linear(in_features=600, out_features=500) \n",
    "        #kaiming_uniform_(self.fc5.weight, nonlinearity='relu')\n",
    "        #self.act5 = ReLU()\n",
    "        #self.drop5 = nn.Dropout(0.50)\n",
    "        #self.fc7 = Linear(in_features=500, out_features=200) \n",
    "        #kaiming_uniform_(self.fc7.weight, nonlinearity='relu')\n",
    "        #self.act7 = ReLU()\n",
    "        #self.drop7 = nn.Dropout(0.40)\n",
    "        #self.fc8 = Linear(in_features=500, out_features=100) \n",
    "        #kaiming_uniform_(self.fc8.weight, nonlinearity='relu')\n",
    "        #self.act8 = ReLU()\n",
    "        #self.drop8 = nn.Dropout(0.30)\n",
    "        self.fc9 = Linear(in_features=100, out_features=100) \n",
    "        kaiming_uniform_(self.fc9.weight, nonlinearity='relu')\n",
    "        self.act9 = ReLU()\n",
    "        #self.drop9 = nn.Dropout(0.20)\n",
    "        self.fc10 = Linear(in_features=100, out_features=10) \n",
    "        kaiming_uniform_(self.fc10.weight, nonlinearity='relu')\n",
    "        self.act10 = ReLU()\n",
    "        self.fc11 = Linear(10, 1)\n",
    "        \n",
    "    def forward(self, train_data):\n",
    "        out = self.fc1(train_data)\n",
    "        out = self.act1(out)\n",
    "        out = self.drop1(out)\n",
    "        out = self.fc3(out)\n",
    "        out = self.act3(out)\n",
    "        out = self.drop3(out)\n",
    "        #out = self.fc5(out)\n",
    "        #out = self.act5(out)\n",
    "        #out = self.drop5(out)\n",
    "        #out = self.fc7(out)\n",
    "        #out = self.act7(out)\n",
    "        #out = self.drop7(out)\n",
    "        #out = self.fc8(out)\n",
    "        #out = self.act8(out)\n",
    "        #out = self.drop8(out)\n",
    "        out = self.fc9(out)\n",
    "        out = self.act9(out)\n",
    "        #out = self.drop9(out)\n",
    "        out = self.fc10(out)\n",
    "        out = self.act10(out)\n",
    "        out = self.fc11(out) \n",
    "        return out\n",
    "\n",
    "# definir a rede neuronal\n",
    "model = MLP()\n",
    "# visualizar a rede\n",
    "print(summary(model, input_size=(BATCH_SIZE, 1205), verbose=0)) \n",
    "model.to(device)"
   ]
  },
  {
   "cell_type": "markdown",
   "metadata": {
    "tags": []
   },
   "source": [
    "## 5. Treinar o Modelo"
   ]
  },
  {
   "cell_type": "code",
   "execution_count": 17,
   "metadata": {
    "tags": []
   },
   "outputs": [],
   "source": [
    "def train_model(h5_file, train_dl, val_dl, model, criterion, optimizer, scheduler):\n",
    "    liveloss = PlotLosses()\n",
    "    for epoch in range(EPOCHS):\n",
    "        logs = {} ##para o livelossplot\n",
    "        #Train phase\n",
    "        model.train() \n",
    "        running_loss  = 0.0\n",
    "        for train_data, labels in train_dl: \n",
    "            train_data = train_data.to(device)\n",
    "            labels = labels.to(device)\n",
    "            outputs = model(train_data)\n",
    "            loss = criterion(outputs, labels)\n",
    "            optimizer.zero_grad()\n",
    "            loss.backward()\n",
    "            optimizer.step()\n",
    "            running_loss += loss.detach() * train_data.size(0) #multiplico por inputs.size(0) que é o batch desta iteração\n",
    "        epoch_loss = running_loss / len(train_dl.dataset)\n",
    "        logs['loss'] = epoch_loss.item()\n",
    "            \n",
    "        #Validation phase\n",
    "        model.eval() \n",
    "        running_loss  = 0.0\n",
    "        for train_data, labels in val_dl: \n",
    "            train_data = train_data.to(device)\n",
    "            labels = labels.to(device)\n",
    "            outputs = model(train_data)\n",
    "            loss = criterion(outputs, labels)\n",
    "            running_loss += loss.detach() * train_data.size(0) #multiplico por inputs.size(0) que é o batch desta iteração\n",
    "        epoch_loss = running_loss / len(val_dl.dataset)\n",
    "        logs['val_loss'] = epoch_loss.item()\n",
    "        scheduler.step(epoch_loss) \n",
    "        epoch_lr = optimizer.param_groups[0]['lr'] \n",
    "        logs['val_lr'] = epoch_lr\n",
    "        liveloss.update(logs)\n",
    "        liveloss.send()\n",
    "    torch.save(model,h5_file) "
   ]
  },
  {
   "cell_type": "code",
   "execution_count": 18,
   "metadata": {},
   "outputs": [
    {
     "ename": "KeyboardInterrupt",
     "evalue": "",
     "output_type": "error",
     "traceback": [
      "\u001b[0;31m---------------------------------------------------------------------------\u001b[0m",
      "\u001b[0;31mKeyboardInterrupt\u001b[0m                         Traceback (most recent call last)",
      "\u001b[0;32m<ipython-input-18-daa1ab6e43e3>\u001b[0m in \u001b[0;36m<module>\u001b[0;34m\u001b[0m\n\u001b[1;32m      6\u001b[0m \u001b[0mscheduler\u001b[0m \u001b[0;34m=\u001b[0m \u001b[0mReduceLROnPlateau\u001b[0m\u001b[0;34m(\u001b[0m\u001b[0moptimizer\u001b[0m\u001b[0;34m,\u001b[0m \u001b[0;34m'min'\u001b[0m\u001b[0;34m,\u001b[0m \u001b[0mfactor\u001b[0m\u001b[0;34m=\u001b[0m\u001b[0;36m0.95\u001b[0m\u001b[0;34m,\u001b[0m \u001b[0mpatience\u001b[0m\u001b[0;34m=\u001b[0m\u001b[0;36m70\u001b[0m\u001b[0;34m)\u001b[0m\u001b[0;34m\u001b[0m\u001b[0;34m\u001b[0m\u001b[0m\n\u001b[1;32m      7\u001b[0m \u001b[0mstarttime\u001b[0m \u001b[0;34m=\u001b[0m \u001b[0mtime\u001b[0m\u001b[0;34m.\u001b[0m\u001b[0mperf_counter\u001b[0m\u001b[0;34m(\u001b[0m\u001b[0;34m)\u001b[0m\u001b[0;34m\u001b[0m\u001b[0;34m\u001b[0m\u001b[0m\n\u001b[0;32m----> 8\u001b[0;31m \u001b[0mtrain_model\u001b[0m\u001b[0;34m(\u001b[0m\u001b[0;34m'CNNModel_1.pth'\u001b[0m\u001b[0;34m,\u001b[0m \u001b[0mtrain_dl\u001b[0m\u001b[0;34m,\u001b[0m \u001b[0mval_dl\u001b[0m\u001b[0;34m,\u001b[0m \u001b[0mmodel\u001b[0m\u001b[0;34m,\u001b[0m \u001b[0mcriterion\u001b[0m\u001b[0;34m,\u001b[0m \u001b[0moptimizer\u001b[0m\u001b[0;34m,\u001b[0m \u001b[0mscheduler\u001b[0m\u001b[0;34m)\u001b[0m\u001b[0;34m\u001b[0m\u001b[0;34m\u001b[0m\u001b[0m\n\u001b[0m\u001b[1;32m      9\u001b[0m \u001b[0mendtime\u001b[0m \u001b[0;34m=\u001b[0m \u001b[0mtime\u001b[0m\u001b[0;34m.\u001b[0m\u001b[0mperf_counter\u001b[0m\u001b[0;34m(\u001b[0m\u001b[0;34m)\u001b[0m\u001b[0;34m\u001b[0m\u001b[0;34m\u001b[0m\u001b[0m\n\u001b[1;32m     10\u001b[0m \u001b[0mprint\u001b[0m\u001b[0;34m(\u001b[0m\u001b[0;34mf\"Tempo gasto: {endtime - starttime} segundos\"\u001b[0m\u001b[0;34m)\u001b[0m\u001b[0;34m\u001b[0m\u001b[0;34m\u001b[0m\u001b[0m\n",
      "\u001b[0;32m<ipython-input-17-2f7a455f4893>\u001b[0m in \u001b[0;36mtrain_model\u001b[0;34m(h5_file, train_dl, val_dl, model, criterion, optimizer, scheduler)\u001b[0m\n\u001b[1;32m     33\u001b[0m         \u001b[0mlogs\u001b[0m\u001b[0;34m[\u001b[0m\u001b[0;34m'val_lr'\u001b[0m\u001b[0;34m]\u001b[0m \u001b[0;34m=\u001b[0m \u001b[0mepoch_lr\u001b[0m\u001b[0;34m\u001b[0m\u001b[0;34m\u001b[0m\u001b[0m\n\u001b[1;32m     34\u001b[0m         \u001b[0mliveloss\u001b[0m\u001b[0;34m.\u001b[0m\u001b[0mupdate\u001b[0m\u001b[0;34m(\u001b[0m\u001b[0mlogs\u001b[0m\u001b[0;34m)\u001b[0m\u001b[0;34m\u001b[0m\u001b[0;34m\u001b[0m\u001b[0m\n\u001b[0;32m---> 35\u001b[0;31m         \u001b[0mliveloss\u001b[0m\u001b[0;34m.\u001b[0m\u001b[0msend\u001b[0m\u001b[0;34m(\u001b[0m\u001b[0;34m)\u001b[0m\u001b[0;34m\u001b[0m\u001b[0;34m\u001b[0m\u001b[0m\n\u001b[0m\u001b[1;32m     36\u001b[0m     \u001b[0mtorch\u001b[0m\u001b[0;34m.\u001b[0m\u001b[0msave\u001b[0m\u001b[0;34m(\u001b[0m\u001b[0mmodel\u001b[0m\u001b[0;34m,\u001b[0m\u001b[0mh5_file\u001b[0m\u001b[0;34m)\u001b[0m\u001b[0;34m\u001b[0m\u001b[0;34m\u001b[0m\u001b[0m\n",
      "\u001b[0;32m/opt/conda/lib/python3.7/site-packages/livelossplot/plot_losses.py\u001b[0m in \u001b[0;36msend\u001b[0;34m(self)\u001b[0m\n\u001b[1;32m     25\u001b[0m         \u001b[0;34m\"\"\"Method will send logs to every output class\"\"\"\u001b[0m\u001b[0;34m\u001b[0m\u001b[0;34m\u001b[0m\u001b[0m\n\u001b[1;32m     26\u001b[0m         \u001b[0;32mfor\u001b[0m \u001b[0moutput\u001b[0m \u001b[0;32min\u001b[0m \u001b[0mself\u001b[0m\u001b[0;34m.\u001b[0m\u001b[0moutputs\u001b[0m\u001b[0;34m:\u001b[0m\u001b[0;34m\u001b[0m\u001b[0;34m\u001b[0m\u001b[0m\n\u001b[0;32m---> 27\u001b[0;31m             \u001b[0moutput\u001b[0m\u001b[0;34m.\u001b[0m\u001b[0msend\u001b[0m\u001b[0;34m(\u001b[0m\u001b[0mself\u001b[0m\u001b[0;34m.\u001b[0m\u001b[0mlogger\u001b[0m\u001b[0;34m)\u001b[0m\u001b[0;34m\u001b[0m\u001b[0;34m\u001b[0m\u001b[0m\n\u001b[0m\u001b[1;32m     28\u001b[0m \u001b[0;34m\u001b[0m\u001b[0m\n\u001b[1;32m     29\u001b[0m     \u001b[0;32mdef\u001b[0m \u001b[0mdraw\u001b[0m\u001b[0;34m(\u001b[0m\u001b[0mself\u001b[0m\u001b[0;34m)\u001b[0m\u001b[0;34m:\u001b[0m\u001b[0;34m\u001b[0m\u001b[0;34m\u001b[0m\u001b[0m\n",
      "\u001b[0;32m/opt/conda/lib/python3.7/site-packages/livelossplot/outputs/matplotlib_plot.py\u001b[0m in \u001b[0;36msend\u001b[0;34m(self, logger)\u001b[0m\n\u001b[1;32m     53\u001b[0m             \u001b[0mplt\u001b[0m\u001b[0;34m.\u001b[0m\u001b[0msavefig\u001b[0m\u001b[0;34m(\u001b[0m\u001b[0mself\u001b[0m\u001b[0;34m.\u001b[0m\u001b[0mfigpath\u001b[0m\u001b[0;34m.\u001b[0m\u001b[0mformat\u001b[0m\u001b[0;34m(\u001b[0m\u001b[0mi\u001b[0m\u001b[0;34m=\u001b[0m\u001b[0mself\u001b[0m\u001b[0;34m.\u001b[0m\u001b[0mfile_idx\u001b[0m\u001b[0;34m)\u001b[0m\u001b[0;34m)\u001b[0m\u001b[0;34m\u001b[0m\u001b[0;34m\u001b[0m\u001b[0m\n\u001b[1;32m     54\u001b[0m             \u001b[0mself\u001b[0m\u001b[0;34m.\u001b[0m\u001b[0mfile_idx\u001b[0m \u001b[0;34m+=\u001b[0m \u001b[0;36m1\u001b[0m\u001b[0;34m\u001b[0m\u001b[0;34m\u001b[0m\u001b[0m\n\u001b[0;32m---> 55\u001b[0;31m         \u001b[0mplt\u001b[0m\u001b[0;34m.\u001b[0m\u001b[0mshow\u001b[0m\u001b[0;34m(\u001b[0m\u001b[0;34m)\u001b[0m\u001b[0;34m\u001b[0m\u001b[0;34m\u001b[0m\u001b[0m\n\u001b[0m\u001b[1;32m     56\u001b[0m \u001b[0;34m\u001b[0m\u001b[0m\n\u001b[1;32m     57\u001b[0m     \u001b[0;32mdef\u001b[0m \u001b[0m_draw_metric_subplot\u001b[0m\u001b[0;34m(\u001b[0m\u001b[0mself\u001b[0m\u001b[0;34m,\u001b[0m \u001b[0mgroup_logs\u001b[0m\u001b[0;34m:\u001b[0m \u001b[0mList\u001b[0m\u001b[0;34m[\u001b[0m\u001b[0mLogItem\u001b[0m\u001b[0;34m]\u001b[0m\u001b[0;34m,\u001b[0m \u001b[0mgroup_name\u001b[0m\u001b[0;34m:\u001b[0m \u001b[0mstr\u001b[0m \u001b[0;34m=\u001b[0m \u001b[0;34m''\u001b[0m\u001b[0;34m)\u001b[0m\u001b[0;34m:\u001b[0m\u001b[0;34m\u001b[0m\u001b[0;34m\u001b[0m\u001b[0m\n",
      "\u001b[0;32m/opt/conda/lib/python3.7/site-packages/matplotlib/pyplot.py\u001b[0m in \u001b[0;36mshow\u001b[0;34m(*args, **kwargs)\u001b[0m\n\u001b[1;32m    334\u001b[0m     \"\"\"\n\u001b[1;32m    335\u001b[0m     \u001b[0m_warn_if_gui_out_of_main_thread\u001b[0m\u001b[0;34m(\u001b[0m\u001b[0;34m)\u001b[0m\u001b[0;34m\u001b[0m\u001b[0;34m\u001b[0m\u001b[0m\n\u001b[0;32m--> 336\u001b[0;31m     \u001b[0;32mreturn\u001b[0m \u001b[0m_backend_mod\u001b[0m\u001b[0;34m.\u001b[0m\u001b[0mshow\u001b[0m\u001b[0;34m(\u001b[0m\u001b[0;34m*\u001b[0m\u001b[0margs\u001b[0m\u001b[0;34m,\u001b[0m \u001b[0;34m**\u001b[0m\u001b[0mkwargs\u001b[0m\u001b[0;34m)\u001b[0m\u001b[0;34m\u001b[0m\u001b[0;34m\u001b[0m\u001b[0m\n\u001b[0m\u001b[1;32m    337\u001b[0m \u001b[0;34m\u001b[0m\u001b[0m\n\u001b[1;32m    338\u001b[0m \u001b[0;34m\u001b[0m\u001b[0m\n",
      "\u001b[0;32m/opt/conda/lib/python3.7/site-packages/ipykernel/pylab/backend_inline.py\u001b[0m in \u001b[0;36mshow\u001b[0;34m(close, block)\u001b[0m\n\u001b[1;32m     41\u001b[0m             display(\n\u001b[1;32m     42\u001b[0m                 \u001b[0mfigure_manager\u001b[0m\u001b[0;34m.\u001b[0m\u001b[0mcanvas\u001b[0m\u001b[0;34m.\u001b[0m\u001b[0mfigure\u001b[0m\u001b[0;34m,\u001b[0m\u001b[0;34m\u001b[0m\u001b[0;34m\u001b[0m\u001b[0m\n\u001b[0;32m---> 43\u001b[0;31m                 \u001b[0mmetadata\u001b[0m\u001b[0;34m=\u001b[0m\u001b[0m_fetch_figure_metadata\u001b[0m\u001b[0;34m(\u001b[0m\u001b[0mfigure_manager\u001b[0m\u001b[0;34m.\u001b[0m\u001b[0mcanvas\u001b[0m\u001b[0;34m.\u001b[0m\u001b[0mfigure\u001b[0m\u001b[0;34m)\u001b[0m\u001b[0;34m\u001b[0m\u001b[0;34m\u001b[0m\u001b[0m\n\u001b[0m\u001b[1;32m     44\u001b[0m             )\n\u001b[1;32m     45\u001b[0m     \u001b[0;32mfinally\u001b[0m\u001b[0;34m:\u001b[0m\u001b[0;34m\u001b[0m\u001b[0;34m\u001b[0m\u001b[0m\n",
      "\u001b[0;32m/opt/conda/lib/python3.7/site-packages/IPython/core/display.py\u001b[0m in \u001b[0;36mdisplay\u001b[0;34m(include, exclude, metadata, transient, display_id, *objs, **kwargs)\u001b[0m\n\u001b[1;32m    311\u001b[0m             \u001b[0mpublish_display_data\u001b[0m\u001b[0;34m(\u001b[0m\u001b[0mdata\u001b[0m\u001b[0;34m=\u001b[0m\u001b[0mobj\u001b[0m\u001b[0;34m,\u001b[0m \u001b[0mmetadata\u001b[0m\u001b[0;34m=\u001b[0m\u001b[0mmetadata\u001b[0m\u001b[0;34m,\u001b[0m \u001b[0;34m**\u001b[0m\u001b[0mkwargs\u001b[0m\u001b[0;34m)\u001b[0m\u001b[0;34m\u001b[0m\u001b[0;34m\u001b[0m\u001b[0m\n\u001b[1;32m    312\u001b[0m         \u001b[0;32melse\u001b[0m\u001b[0;34m:\u001b[0m\u001b[0;34m\u001b[0m\u001b[0;34m\u001b[0m\u001b[0m\n\u001b[0;32m--> 313\u001b[0;31m             \u001b[0mformat_dict\u001b[0m\u001b[0;34m,\u001b[0m \u001b[0mmd_dict\u001b[0m \u001b[0;34m=\u001b[0m \u001b[0mformat\u001b[0m\u001b[0;34m(\u001b[0m\u001b[0mobj\u001b[0m\u001b[0;34m,\u001b[0m \u001b[0minclude\u001b[0m\u001b[0;34m=\u001b[0m\u001b[0minclude\u001b[0m\u001b[0;34m,\u001b[0m \u001b[0mexclude\u001b[0m\u001b[0;34m=\u001b[0m\u001b[0mexclude\u001b[0m\u001b[0;34m)\u001b[0m\u001b[0;34m\u001b[0m\u001b[0;34m\u001b[0m\u001b[0m\n\u001b[0m\u001b[1;32m    314\u001b[0m             \u001b[0;32mif\u001b[0m \u001b[0;32mnot\u001b[0m \u001b[0mformat_dict\u001b[0m\u001b[0;34m:\u001b[0m\u001b[0;34m\u001b[0m\u001b[0;34m\u001b[0m\u001b[0m\n\u001b[1;32m    315\u001b[0m                 \u001b[0;31m# nothing to display (e.g. _ipython_display_ took over)\u001b[0m\u001b[0;34m\u001b[0m\u001b[0;34m\u001b[0m\u001b[0;34m\u001b[0m\u001b[0m\n",
      "\u001b[0;32m/opt/conda/lib/python3.7/site-packages/IPython/core/formatters.py\u001b[0m in \u001b[0;36mformat\u001b[0;34m(self, obj, include, exclude)\u001b[0m\n\u001b[1;32m    178\u001b[0m             \u001b[0mmd\u001b[0m \u001b[0;34m=\u001b[0m \u001b[0;32mNone\u001b[0m\u001b[0;34m\u001b[0m\u001b[0;34m\u001b[0m\u001b[0m\n\u001b[1;32m    179\u001b[0m             \u001b[0;32mtry\u001b[0m\u001b[0;34m:\u001b[0m\u001b[0;34m\u001b[0m\u001b[0;34m\u001b[0m\u001b[0m\n\u001b[0;32m--> 180\u001b[0;31m                 \u001b[0mdata\u001b[0m \u001b[0;34m=\u001b[0m \u001b[0mformatter\u001b[0m\u001b[0;34m(\u001b[0m\u001b[0mobj\u001b[0m\u001b[0;34m)\u001b[0m\u001b[0;34m\u001b[0m\u001b[0;34m\u001b[0m\u001b[0m\n\u001b[0m\u001b[1;32m    181\u001b[0m             \u001b[0;32mexcept\u001b[0m\u001b[0;34m:\u001b[0m\u001b[0;34m\u001b[0m\u001b[0;34m\u001b[0m\u001b[0m\n\u001b[1;32m    182\u001b[0m                 \u001b[0;31m# FIXME: log the exception\u001b[0m\u001b[0;34m\u001b[0m\u001b[0;34m\u001b[0m\u001b[0;34m\u001b[0m\u001b[0m\n",
      "\u001b[0;32m<decorator-gen-9>\u001b[0m in \u001b[0;36m__call__\u001b[0;34m(self, obj)\u001b[0m\n",
      "\u001b[0;32m/opt/conda/lib/python3.7/site-packages/IPython/core/formatters.py\u001b[0m in \u001b[0;36mcatch_format_error\u001b[0;34m(method, self, *args, **kwargs)\u001b[0m\n\u001b[1;32m    222\u001b[0m     \u001b[0;34m\"\"\"show traceback on failed format call\"\"\"\u001b[0m\u001b[0;34m\u001b[0m\u001b[0;34m\u001b[0m\u001b[0m\n\u001b[1;32m    223\u001b[0m     \u001b[0;32mtry\u001b[0m\u001b[0;34m:\u001b[0m\u001b[0;34m\u001b[0m\u001b[0;34m\u001b[0m\u001b[0m\n\u001b[0;32m--> 224\u001b[0;31m         \u001b[0mr\u001b[0m \u001b[0;34m=\u001b[0m \u001b[0mmethod\u001b[0m\u001b[0;34m(\u001b[0m\u001b[0mself\u001b[0m\u001b[0;34m,\u001b[0m \u001b[0;34m*\u001b[0m\u001b[0margs\u001b[0m\u001b[0;34m,\u001b[0m \u001b[0;34m**\u001b[0m\u001b[0mkwargs\u001b[0m\u001b[0;34m)\u001b[0m\u001b[0;34m\u001b[0m\u001b[0;34m\u001b[0m\u001b[0m\n\u001b[0m\u001b[1;32m    225\u001b[0m     \u001b[0;32mexcept\u001b[0m \u001b[0mNotImplementedError\u001b[0m\u001b[0;34m:\u001b[0m\u001b[0;34m\u001b[0m\u001b[0;34m\u001b[0m\u001b[0m\n\u001b[1;32m    226\u001b[0m         \u001b[0;31m# don't warn on NotImplementedErrors\u001b[0m\u001b[0;34m\u001b[0m\u001b[0;34m\u001b[0m\u001b[0;34m\u001b[0m\u001b[0m\n",
      "\u001b[0;32m/opt/conda/lib/python3.7/site-packages/IPython/core/formatters.py\u001b[0m in \u001b[0;36m__call__\u001b[0;34m(self, obj)\u001b[0m\n\u001b[1;32m    339\u001b[0m                 \u001b[0;32mpass\u001b[0m\u001b[0;34m\u001b[0m\u001b[0;34m\u001b[0m\u001b[0m\n\u001b[1;32m    340\u001b[0m             \u001b[0;32melse\u001b[0m\u001b[0;34m:\u001b[0m\u001b[0;34m\u001b[0m\u001b[0;34m\u001b[0m\u001b[0m\n\u001b[0;32m--> 341\u001b[0;31m                 \u001b[0;32mreturn\u001b[0m \u001b[0mprinter\u001b[0m\u001b[0;34m(\u001b[0m\u001b[0mobj\u001b[0m\u001b[0;34m)\u001b[0m\u001b[0;34m\u001b[0m\u001b[0;34m\u001b[0m\u001b[0m\n\u001b[0m\u001b[1;32m    342\u001b[0m             \u001b[0;31m# Finally look for special method names\u001b[0m\u001b[0;34m\u001b[0m\u001b[0;34m\u001b[0m\u001b[0;34m\u001b[0m\u001b[0m\n\u001b[1;32m    343\u001b[0m             \u001b[0mmethod\u001b[0m \u001b[0;34m=\u001b[0m \u001b[0mget_real_method\u001b[0m\u001b[0;34m(\u001b[0m\u001b[0mobj\u001b[0m\u001b[0;34m,\u001b[0m \u001b[0mself\u001b[0m\u001b[0;34m.\u001b[0m\u001b[0mprint_method\u001b[0m\u001b[0;34m)\u001b[0m\u001b[0;34m\u001b[0m\u001b[0;34m\u001b[0m\u001b[0m\n",
      "\u001b[0;32m/opt/conda/lib/python3.7/site-packages/IPython/core/pylabtools.py\u001b[0m in \u001b[0;36m<lambda>\u001b[0;34m(fig)\u001b[0m\n\u001b[1;32m    246\u001b[0m \u001b[0;34m\u001b[0m\u001b[0m\n\u001b[1;32m    247\u001b[0m     \u001b[0;32mif\u001b[0m \u001b[0;34m'png'\u001b[0m \u001b[0;32min\u001b[0m \u001b[0mformats\u001b[0m\u001b[0;34m:\u001b[0m\u001b[0;34m\u001b[0m\u001b[0;34m\u001b[0m\u001b[0m\n\u001b[0;32m--> 248\u001b[0;31m         \u001b[0mpng_formatter\u001b[0m\u001b[0;34m.\u001b[0m\u001b[0mfor_type\u001b[0m\u001b[0;34m(\u001b[0m\u001b[0mFigure\u001b[0m\u001b[0;34m,\u001b[0m \u001b[0;32mlambda\u001b[0m \u001b[0mfig\u001b[0m\u001b[0;34m:\u001b[0m \u001b[0mprint_figure\u001b[0m\u001b[0;34m(\u001b[0m\u001b[0mfig\u001b[0m\u001b[0;34m,\u001b[0m \u001b[0;34m'png'\u001b[0m\u001b[0;34m,\u001b[0m \u001b[0;34m**\u001b[0m\u001b[0mkwargs\u001b[0m\u001b[0;34m)\u001b[0m\u001b[0;34m)\u001b[0m\u001b[0;34m\u001b[0m\u001b[0;34m\u001b[0m\u001b[0m\n\u001b[0m\u001b[1;32m    249\u001b[0m     \u001b[0;32mif\u001b[0m \u001b[0;34m'retina'\u001b[0m \u001b[0;32min\u001b[0m \u001b[0mformats\u001b[0m \u001b[0;32mor\u001b[0m \u001b[0;34m'png2x'\u001b[0m \u001b[0;32min\u001b[0m \u001b[0mformats\u001b[0m\u001b[0;34m:\u001b[0m\u001b[0;34m\u001b[0m\u001b[0;34m\u001b[0m\u001b[0m\n\u001b[1;32m    250\u001b[0m         \u001b[0mpng_formatter\u001b[0m\u001b[0;34m.\u001b[0m\u001b[0mfor_type\u001b[0m\u001b[0;34m(\u001b[0m\u001b[0mFigure\u001b[0m\u001b[0;34m,\u001b[0m \u001b[0;32mlambda\u001b[0m \u001b[0mfig\u001b[0m\u001b[0;34m:\u001b[0m \u001b[0mretina_figure\u001b[0m\u001b[0;34m(\u001b[0m\u001b[0mfig\u001b[0m\u001b[0;34m,\u001b[0m \u001b[0;34m**\u001b[0m\u001b[0mkwargs\u001b[0m\u001b[0;34m)\u001b[0m\u001b[0;34m)\u001b[0m\u001b[0;34m\u001b[0m\u001b[0;34m\u001b[0m\u001b[0m\n",
      "\u001b[0;32m/opt/conda/lib/python3.7/site-packages/IPython/core/pylabtools.py\u001b[0m in \u001b[0;36mprint_figure\u001b[0;34m(fig, fmt, bbox_inches, **kwargs)\u001b[0m\n\u001b[1;32m    130\u001b[0m         \u001b[0mFigureCanvasBase\u001b[0m\u001b[0;34m(\u001b[0m\u001b[0mfig\u001b[0m\u001b[0;34m)\u001b[0m\u001b[0;34m\u001b[0m\u001b[0;34m\u001b[0m\u001b[0m\n\u001b[1;32m    131\u001b[0m \u001b[0;34m\u001b[0m\u001b[0m\n\u001b[0;32m--> 132\u001b[0;31m     \u001b[0mfig\u001b[0m\u001b[0;34m.\u001b[0m\u001b[0mcanvas\u001b[0m\u001b[0;34m.\u001b[0m\u001b[0mprint_figure\u001b[0m\u001b[0;34m(\u001b[0m\u001b[0mbytes_io\u001b[0m\u001b[0;34m,\u001b[0m \u001b[0;34m**\u001b[0m\u001b[0mkw\u001b[0m\u001b[0;34m)\u001b[0m\u001b[0;34m\u001b[0m\u001b[0;34m\u001b[0m\u001b[0m\n\u001b[0m\u001b[1;32m    133\u001b[0m     \u001b[0mdata\u001b[0m \u001b[0;34m=\u001b[0m \u001b[0mbytes_io\u001b[0m\u001b[0;34m.\u001b[0m\u001b[0mgetvalue\u001b[0m\u001b[0;34m(\u001b[0m\u001b[0;34m)\u001b[0m\u001b[0;34m\u001b[0m\u001b[0;34m\u001b[0m\u001b[0m\n\u001b[1;32m    134\u001b[0m     \u001b[0;32mif\u001b[0m \u001b[0mfmt\u001b[0m \u001b[0;34m==\u001b[0m \u001b[0;34m'svg'\u001b[0m\u001b[0;34m:\u001b[0m\u001b[0;34m\u001b[0m\u001b[0;34m\u001b[0m\u001b[0m\n",
      "\u001b[0;32m/opt/conda/lib/python3.7/site-packages/matplotlib/backend_bases.py\u001b[0m in \u001b[0;36mprint_figure\u001b[0;34m(self, filename, dpi, facecolor, edgecolor, orientation, format, bbox_inches, pad_inches, bbox_extra_artists, backend, **kwargs)\u001b[0m\n\u001b[1;32m   2194\u001b[0m \u001b[0;34m\u001b[0m\u001b[0m\n\u001b[1;32m   2195\u001b[0m                     bbox_inches = self.figure.get_tightbbox(\n\u001b[0;32m-> 2196\u001b[0;31m                         renderer, bbox_extra_artists=bbox_extra_artists)\n\u001b[0m\u001b[1;32m   2197\u001b[0m                     \u001b[0;32mif\u001b[0m \u001b[0mpad_inches\u001b[0m \u001b[0;32mis\u001b[0m \u001b[0;32mNone\u001b[0m\u001b[0;34m:\u001b[0m\u001b[0;34m\u001b[0m\u001b[0;34m\u001b[0m\u001b[0m\n\u001b[1;32m   2198\u001b[0m                         \u001b[0mpad_inches\u001b[0m \u001b[0;34m=\u001b[0m \u001b[0mrcParams\u001b[0m\u001b[0;34m[\u001b[0m\u001b[0;34m'savefig.pad_inches'\u001b[0m\u001b[0;34m]\u001b[0m\u001b[0;34m\u001b[0m\u001b[0;34m\u001b[0m\u001b[0m\n",
      "\u001b[0;32m/opt/conda/lib/python3.7/site-packages/matplotlib/figure.py\u001b[0m in \u001b[0;36mget_tightbbox\u001b[0;34m(self, renderer, bbox_extra_artists)\u001b[0m\n\u001b[1;32m   2504\u001b[0m \u001b[0;34m\u001b[0m\u001b[0m\n\u001b[1;32m   2505\u001b[0m         \u001b[0;32mfor\u001b[0m \u001b[0ma\u001b[0m \u001b[0;32min\u001b[0m \u001b[0martists\u001b[0m\u001b[0;34m:\u001b[0m\u001b[0;34m\u001b[0m\u001b[0;34m\u001b[0m\u001b[0m\n\u001b[0;32m-> 2506\u001b[0;31m             \u001b[0mbbox\u001b[0m \u001b[0;34m=\u001b[0m \u001b[0ma\u001b[0m\u001b[0;34m.\u001b[0m\u001b[0mget_tightbbox\u001b[0m\u001b[0;34m(\u001b[0m\u001b[0mrenderer\u001b[0m\u001b[0;34m)\u001b[0m\u001b[0;34m\u001b[0m\u001b[0;34m\u001b[0m\u001b[0m\n\u001b[0m\u001b[1;32m   2507\u001b[0m             \u001b[0;32mif\u001b[0m \u001b[0mbbox\u001b[0m \u001b[0;32mis\u001b[0m \u001b[0;32mnot\u001b[0m \u001b[0;32mNone\u001b[0m \u001b[0;32mand\u001b[0m \u001b[0;34m(\u001b[0m\u001b[0mbbox\u001b[0m\u001b[0;34m.\u001b[0m\u001b[0mwidth\u001b[0m \u001b[0;34m!=\u001b[0m \u001b[0;36m0\u001b[0m \u001b[0;32mor\u001b[0m \u001b[0mbbox\u001b[0m\u001b[0;34m.\u001b[0m\u001b[0mheight\u001b[0m \u001b[0;34m!=\u001b[0m \u001b[0;36m0\u001b[0m\u001b[0;34m)\u001b[0m\u001b[0;34m:\u001b[0m\u001b[0;34m\u001b[0m\u001b[0;34m\u001b[0m\u001b[0m\n\u001b[1;32m   2508\u001b[0m                 \u001b[0mbb\u001b[0m\u001b[0;34m.\u001b[0m\u001b[0mappend\u001b[0m\u001b[0;34m(\u001b[0m\u001b[0mbbox\u001b[0m\u001b[0;34m)\u001b[0m\u001b[0;34m\u001b[0m\u001b[0;34m\u001b[0m\u001b[0m\n",
      "\u001b[0;32m/opt/conda/lib/python3.7/site-packages/matplotlib/axes/_base.py\u001b[0m in \u001b[0;36mget_tightbbox\u001b[0;34m(self, renderer, call_axes_locator, bbox_extra_artists, for_layout_only)\u001b[0m\n\u001b[1;32m   4201\u001b[0m                     \u001b[0;31m# this artist\u001b[0m\u001b[0;34m\u001b[0m\u001b[0;34m\u001b[0m\u001b[0;34m\u001b[0m\u001b[0m\n\u001b[1;32m   4202\u001b[0m                     \u001b[0;32mcontinue\u001b[0m\u001b[0;34m\u001b[0m\u001b[0;34m\u001b[0m\u001b[0m\n\u001b[0;32m-> 4203\u001b[0;31m             \u001b[0mbbox\u001b[0m \u001b[0;34m=\u001b[0m \u001b[0ma\u001b[0m\u001b[0;34m.\u001b[0m\u001b[0mget_tightbbox\u001b[0m\u001b[0;34m(\u001b[0m\u001b[0mrenderer\u001b[0m\u001b[0;34m)\u001b[0m\u001b[0;34m\u001b[0m\u001b[0;34m\u001b[0m\u001b[0m\n\u001b[0m\u001b[1;32m   4204\u001b[0m             if (bbox is not None\n\u001b[1;32m   4205\u001b[0m                     \u001b[0;32mand\u001b[0m \u001b[0;36m0\u001b[0m \u001b[0;34m<\u001b[0m \u001b[0mbbox\u001b[0m\u001b[0;34m.\u001b[0m\u001b[0mwidth\u001b[0m \u001b[0;34m<\u001b[0m \u001b[0mnp\u001b[0m\u001b[0;34m.\u001b[0m\u001b[0minf\u001b[0m\u001b[0;34m\u001b[0m\u001b[0;34m\u001b[0m\u001b[0m\n",
      "\u001b[0;32m/opt/conda/lib/python3.7/site-packages/matplotlib/artist.py\u001b[0m in \u001b[0;36mget_tightbbox\u001b[0;34m(self, renderer)\u001b[0m\n\u001b[1;32m    276\u001b[0m             \u001b[0mThe\u001b[0m \u001b[0menclosing\u001b[0m \u001b[0mbounding\u001b[0m \u001b[0mbox\u001b[0m \u001b[0;34m(\u001b[0m\u001b[0;32min\u001b[0m \u001b[0mfigure\u001b[0m \u001b[0mpixel\u001b[0m \u001b[0mcoordinates\u001b[0m\u001b[0;34m)\u001b[0m\u001b[0;34m.\u001b[0m\u001b[0;34m\u001b[0m\u001b[0;34m\u001b[0m\u001b[0m\n\u001b[1;32m    277\u001b[0m         \"\"\"\n\u001b[0;32m--> 278\u001b[0;31m         \u001b[0mbbox\u001b[0m \u001b[0;34m=\u001b[0m \u001b[0mself\u001b[0m\u001b[0;34m.\u001b[0m\u001b[0mget_window_extent\u001b[0m\u001b[0;34m(\u001b[0m\u001b[0mrenderer\u001b[0m\u001b[0;34m)\u001b[0m\u001b[0;34m\u001b[0m\u001b[0;34m\u001b[0m\u001b[0m\n\u001b[0m\u001b[1;32m    279\u001b[0m         \u001b[0;32mif\u001b[0m \u001b[0mself\u001b[0m\u001b[0;34m.\u001b[0m\u001b[0mget_clip_on\u001b[0m\u001b[0;34m(\u001b[0m\u001b[0;34m)\u001b[0m\u001b[0;34m:\u001b[0m\u001b[0;34m\u001b[0m\u001b[0;34m\u001b[0m\u001b[0m\n\u001b[1;32m    280\u001b[0m             \u001b[0mclip_box\u001b[0m \u001b[0;34m=\u001b[0m \u001b[0mself\u001b[0m\u001b[0;34m.\u001b[0m\u001b[0mget_clip_box\u001b[0m\u001b[0;34m(\u001b[0m\u001b[0;34m)\u001b[0m\u001b[0;34m\u001b[0m\u001b[0;34m\u001b[0m\u001b[0m\n",
      "\u001b[0;32m/opt/conda/lib/python3.7/site-packages/matplotlib/spines.py\u001b[0m in \u001b[0;36mget_window_extent\u001b[0;34m(self, renderer)\u001b[0m\n\u001b[1;32m    166\u001b[0m         \u001b[0;31m# make sure the location is updated so that transforms etc are correct:\u001b[0m\u001b[0;34m\u001b[0m\u001b[0;34m\u001b[0m\u001b[0;34m\u001b[0m\u001b[0m\n\u001b[1;32m    167\u001b[0m         \u001b[0mself\u001b[0m\u001b[0;34m.\u001b[0m\u001b[0m_adjust_location\u001b[0m\u001b[0;34m(\u001b[0m\u001b[0;34m)\u001b[0m\u001b[0;34m\u001b[0m\u001b[0;34m\u001b[0m\u001b[0m\n\u001b[0;32m--> 168\u001b[0;31m         \u001b[0mbb\u001b[0m \u001b[0;34m=\u001b[0m \u001b[0msuper\u001b[0m\u001b[0;34m(\u001b[0m\u001b[0;34m)\u001b[0m\u001b[0;34m.\u001b[0m\u001b[0mget_window_extent\u001b[0m\u001b[0;34m(\u001b[0m\u001b[0mrenderer\u001b[0m\u001b[0;34m=\u001b[0m\u001b[0mrenderer\u001b[0m\u001b[0;34m)\u001b[0m\u001b[0;34m\u001b[0m\u001b[0;34m\u001b[0m\u001b[0m\n\u001b[0m\u001b[1;32m    169\u001b[0m         \u001b[0;32mif\u001b[0m \u001b[0mself\u001b[0m\u001b[0;34m.\u001b[0m\u001b[0maxis\u001b[0m \u001b[0;32mis\u001b[0m \u001b[0;32mNone\u001b[0m\u001b[0;34m:\u001b[0m\u001b[0;34m\u001b[0m\u001b[0;34m\u001b[0m\u001b[0m\n\u001b[1;32m    170\u001b[0m             \u001b[0;32mreturn\u001b[0m \u001b[0mbb\u001b[0m\u001b[0;34m\u001b[0m\u001b[0;34m\u001b[0m\u001b[0m\n",
      "\u001b[0;32m/opt/conda/lib/python3.7/site-packages/matplotlib/patches.py\u001b[0m in \u001b[0;36mget_window_extent\u001b[0;34m(self, renderer)\u001b[0m\n\u001b[1;32m    596\u001b[0m \u001b[0;34m\u001b[0m\u001b[0m\n\u001b[1;32m    597\u001b[0m     \u001b[0;32mdef\u001b[0m \u001b[0mget_window_extent\u001b[0m\u001b[0;34m(\u001b[0m\u001b[0mself\u001b[0m\u001b[0;34m,\u001b[0m \u001b[0mrenderer\u001b[0m\u001b[0;34m=\u001b[0m\u001b[0;32mNone\u001b[0m\u001b[0;34m)\u001b[0m\u001b[0;34m:\u001b[0m\u001b[0;34m\u001b[0m\u001b[0;34m\u001b[0m\u001b[0m\n\u001b[0;32m--> 598\u001b[0;31m         \u001b[0;32mreturn\u001b[0m \u001b[0mself\u001b[0m\u001b[0;34m.\u001b[0m\u001b[0mget_path\u001b[0m\u001b[0;34m(\u001b[0m\u001b[0;34m)\u001b[0m\u001b[0;34m.\u001b[0m\u001b[0mget_extents\u001b[0m\u001b[0;34m(\u001b[0m\u001b[0mself\u001b[0m\u001b[0;34m.\u001b[0m\u001b[0mget_transform\u001b[0m\u001b[0;34m(\u001b[0m\u001b[0;34m)\u001b[0m\u001b[0;34m)\u001b[0m\u001b[0;34m\u001b[0m\u001b[0;34m\u001b[0m\u001b[0m\n\u001b[0m\u001b[1;32m    599\u001b[0m \u001b[0;34m\u001b[0m\u001b[0m\n\u001b[1;32m    600\u001b[0m     \u001b[0;32mdef\u001b[0m \u001b[0m_convert_xy_units\u001b[0m\u001b[0;34m(\u001b[0m\u001b[0mself\u001b[0m\u001b[0;34m,\u001b[0m \u001b[0mxy\u001b[0m\u001b[0;34m)\u001b[0m\u001b[0;34m:\u001b[0m\u001b[0;34m\u001b[0m\u001b[0;34m\u001b[0m\u001b[0m\n",
      "\u001b[0;32m/opt/conda/lib/python3.7/site-packages/matplotlib/path.py\u001b[0m in \u001b[0;36mget_extents\u001b[0;34m(self, transform, **kwargs)\u001b[0m\n\u001b[1;32m    594\u001b[0m             \u001b[0m_\u001b[0m\u001b[0;34m,\u001b[0m \u001b[0mdzeros\u001b[0m \u001b[0;34m=\u001b[0m \u001b[0mcurve\u001b[0m\u001b[0;34m.\u001b[0m\u001b[0maxis_aligned_extrema\u001b[0m\u001b[0;34m(\u001b[0m\u001b[0;34m)\u001b[0m\u001b[0;34m\u001b[0m\u001b[0;34m\u001b[0m\u001b[0m\n\u001b[1;32m    595\u001b[0m             \u001b[0;31m# as can the ends of the curve\u001b[0m\u001b[0;34m\u001b[0m\u001b[0;34m\u001b[0m\u001b[0;34m\u001b[0m\u001b[0m\n\u001b[0;32m--> 596\u001b[0;31m             \u001b[0mbbox\u001b[0m\u001b[0;34m.\u001b[0m\u001b[0mupdate_from_data_xy\u001b[0m\u001b[0;34m(\u001b[0m\u001b[0mcurve\u001b[0m\u001b[0;34m(\u001b[0m\u001b[0;34m[\u001b[0m\u001b[0;36m0\u001b[0m\u001b[0;34m,\u001b[0m \u001b[0;34m*\u001b[0m\u001b[0mdzeros\u001b[0m\u001b[0;34m,\u001b[0m \u001b[0;36m1\u001b[0m\u001b[0;34m]\u001b[0m\u001b[0;34m)\u001b[0m\u001b[0;34m,\u001b[0m \u001b[0mignore\u001b[0m\u001b[0;34m=\u001b[0m\u001b[0;32mFalse\u001b[0m\u001b[0;34m)\u001b[0m\u001b[0;34m\u001b[0m\u001b[0;34m\u001b[0m\u001b[0m\n\u001b[0m\u001b[1;32m    597\u001b[0m         \u001b[0;32mreturn\u001b[0m \u001b[0mbbox\u001b[0m\u001b[0;34m\u001b[0m\u001b[0;34m\u001b[0m\u001b[0m\n\u001b[1;32m    598\u001b[0m \u001b[0;34m\u001b[0m\u001b[0m\n",
      "\u001b[0;32m/opt/conda/lib/python3.7/site-packages/matplotlib/transforms.py\u001b[0m in \u001b[0;36mupdate_from_data_xy\u001b[0;34m(self, xy, ignore, updatex, updatey)\u001b[0m\n\u001b[1;32m    907\u001b[0m         \u001b[0mpath\u001b[0m \u001b[0;34m=\u001b[0m \u001b[0mPath\u001b[0m\u001b[0;34m(\u001b[0m\u001b[0mxy\u001b[0m\u001b[0;34m)\u001b[0m\u001b[0;34m\u001b[0m\u001b[0;34m\u001b[0m\u001b[0m\n\u001b[1;32m    908\u001b[0m         self.update_from_path(path, ignore=ignore,\n\u001b[0;32m--> 909\u001b[0;31m                               updatex=updatex, updatey=updatey)\n\u001b[0m\u001b[1;32m    910\u001b[0m \u001b[0;34m\u001b[0m\u001b[0m\n\u001b[1;32m    911\u001b[0m     \u001b[0;34m@\u001b[0m\u001b[0mBboxBase\u001b[0m\u001b[0;34m.\u001b[0m\u001b[0mx0\u001b[0m\u001b[0;34m.\u001b[0m\u001b[0msetter\u001b[0m\u001b[0;34m\u001b[0m\u001b[0;34m\u001b[0m\u001b[0m\n",
      "\u001b[0;32m/opt/conda/lib/python3.7/site-packages/matplotlib/transforms.py\u001b[0m in \u001b[0;36mupdate_from_path\u001b[0;34m(self, path, ignore, updatex, updatey)\u001b[0m\n\u001b[1;32m    847\u001b[0m         \u001b[0mself\u001b[0m\u001b[0;34m.\u001b[0m\u001b[0m_ignore\u001b[0m \u001b[0;34m=\u001b[0m \u001b[0mvalue\u001b[0m\u001b[0;34m\u001b[0m\u001b[0;34m\u001b[0m\u001b[0m\n\u001b[1;32m    848\u001b[0m \u001b[0;34m\u001b[0m\u001b[0m\n\u001b[0;32m--> 849\u001b[0;31m     \u001b[0;32mdef\u001b[0m \u001b[0mupdate_from_path\u001b[0m\u001b[0;34m(\u001b[0m\u001b[0mself\u001b[0m\u001b[0;34m,\u001b[0m \u001b[0mpath\u001b[0m\u001b[0;34m,\u001b[0m \u001b[0mignore\u001b[0m\u001b[0;34m=\u001b[0m\u001b[0;32mNone\u001b[0m\u001b[0;34m,\u001b[0m \u001b[0mupdatex\u001b[0m\u001b[0;34m=\u001b[0m\u001b[0;32mTrue\u001b[0m\u001b[0;34m,\u001b[0m \u001b[0mupdatey\u001b[0m\u001b[0;34m=\u001b[0m\u001b[0;32mTrue\u001b[0m\u001b[0;34m)\u001b[0m\u001b[0;34m:\u001b[0m\u001b[0;34m\u001b[0m\u001b[0;34m\u001b[0m\u001b[0m\n\u001b[0m\u001b[1;32m    850\u001b[0m         \"\"\"\n\u001b[1;32m    851\u001b[0m         \u001b[0mUpdate\u001b[0m \u001b[0mthe\u001b[0m \u001b[0mbounds\u001b[0m \u001b[0mof\u001b[0m \u001b[0mthe\u001b[0m\u001b[0;31m \u001b[0m\u001b[0;31m`\u001b[0m\u001b[0mBbox\u001b[0m\u001b[0;31m`\u001b[0m \u001b[0mto\u001b[0m \u001b[0mcontain\u001b[0m \u001b[0mthe\u001b[0m \u001b[0mvertices\u001b[0m \u001b[0mof\u001b[0m \u001b[0mthe\u001b[0m\u001b[0;34m\u001b[0m\u001b[0;34m\u001b[0m\u001b[0m\n",
      "\u001b[0;31mKeyboardInterrupt\u001b[0m: "
     ]
    }
   ],
   "source": [
    "#treino do modelo CNNModel_1\n",
    "EPOCHS = 1000\n",
    "LEARNING_RATE = 0.001\n",
    "criterion = L1Loss() \n",
    "optimizer = AdamW(model.parameters(), lr=LEARNING_RATE)\n",
    "scheduler = ReduceLROnPlateau(optimizer, 'min', factor=0.95, patience=70)\n",
    "starttime = time.perf_counter()\n",
    "train_model('CNNModel_1.pth', train_dl, val_dl, model, criterion, optimizer, scheduler)\n",
    "endtime = time.perf_counter()\n",
    "print(f\"Tempo gasto: {endtime - starttime} segundos\")"
   ]
  },
  {
   "cell_type": "markdown",
   "metadata": {},
   "source": [
    "## 6. Testar o Modelo"
   ]
  },
  {
   "cell_type": "code",
   "execution_count": null,
   "metadata": {
    "tags": []
   },
   "outputs": [],
   "source": [
    "# Avaliar o modelo\n",
    "def predict(test_dl, model):\n",
    "    predictions = []\n",
    "    previsoes = []\n",
    "    for test_data in test_dl:\n",
    "        # avaliar o modelo com os casos de teste\n",
    "        test_data = test_data[0].to(device)\n",
    "        yprev = model(test_data)\n",
    "        \n",
    "        # retirar o array numpy\n",
    "        yprev = yprev.detach().cpu().numpy()\n",
    "\n",
    "        # reshape for stacking\n",
    "        yprev = yprev.reshape((len(yprev), 1))\n",
    "        \n",
    "        # guardar\n",
    "        predictions.append(yprev)\n",
    "\n",
    "    predictions = np.vstack(predictions)\n",
    "    \n",
    "    for i in predictions:\n",
    "        previsoes.append(i[0])\n",
    "    previsoes = np.array(previsoes)\n",
    "    \n",
    "    return previsoes\n",
    "\n",
    "# testar o modelo\n",
    "predictions = predict(test_dl, model)\n",
    "print(\"Previsão\", predictions)"
   ]
  },
  {
   "cell_type": "code",
   "execution_count": null,
   "metadata": {},
   "outputs": [],
   "source": [
    "#Guardar os resultados num csv\n",
    "ids = np.arange(1,29,1)\n",
    "\n",
    "df = pd.DataFrame({\"id\" : ids, \"age\" : predictions})\n",
    "df.to_csv(\"submission_mlp.csv\", index=False)"
   ]
  },
  {
   "cell_type": "markdown",
   "metadata": {},
   "source": [
    "## 7. Feature Importance"
   ]
  },
  {
   "cell_type": "code",
   "execution_count": null,
   "metadata": {},
   "outputs": [],
   "source": [
    "#Feature Permutation\n",
    "feature_perm = FeaturePermutation(model)\n",
    "attributions = feature_perm.attribute(train_dados.cuda(), target=0)\n",
    "attributions = attributions.cpu().detach().numpy()"
   ]
  },
  {
   "cell_type": "code",
   "execution_count": null,
   "metadata": {},
   "outputs": [],
   "source": [
    "#Integrated Gradients\n",
    "ig = IntegratedGradients(model)\n",
    "attr = ig.attribute(train_dados.requires_grad_().cuda(), target=0)\n",
    "attr = attr.cpu().detach().numpy()\n",
    "print('IG Attributions:', attr)"
   ]
  },
  {
   "cell_type": "code",
   "execution_count": null,
   "metadata": {},
   "outputs": [],
   "source": [
    "# Helper method to print importances and visualize distribution\n",
    "feature_names = lista_dic.keys()\n",
    "\n",
    "def visualize_importances(feature_names, importances, title=\"Average Feature Importances\", plot=True, axis_title=\"Features\"):\n",
    "    #for i in range(len(feature_names)):\n",
    "        #if importances[i] != 0:\n",
    "        #print(feature_names[i], \": \", '%.3f'%(importances[i]))\n",
    "    x_pos = (np.arange(len(feature_names)))\n",
    "    if plot:\n",
    "        #sns.set_style('whitegrid')\n",
    "        #grafico=sns.barplot(x_pos, importances)\n",
    "        #grafico.set_title(title)\n",
    "        #plt.figure(figsize=(40,10))\n",
    "        plt.bar(x_pos, importances, align='center')\n",
    "        plt.xticks(x_pos, feature_names, wrap=True, rotation=70)\n",
    "        plt.xlabel(axis_title)\n",
    "        plt.title(title)\n",
    "        plt.tight_layout()\n",
    "        plt.show() \n",
    "        \n",
    "visualize_importances(feature_names, np.mean(attr, axis=0))"
   ]
  },
  {
   "cell_type": "code",
   "execution_count": null,
   "metadata": {},
   "outputs": [],
   "source": [
    "visualize_importances(feature_names, np.mean(attributions, axis=0))"
   ]
  }
 ],
 "metadata": {
  "kernelspec": {
   "display_name": "Python 3",
   "language": "python",
   "name": "python3"
  },
  "language_info": {
   "codemirror_mode": {
    "name": "ipython",
    "version": 3
   },
   "file_extension": ".py",
   "mimetype": "text/x-python",
   "name": "python",
   "nbconvert_exporter": "python",
   "pygments_lexer": "ipython3",
   "version": "3.7.7"
  }
 },
 "nbformat": 4,
 "nbformat_minor": 4
}
