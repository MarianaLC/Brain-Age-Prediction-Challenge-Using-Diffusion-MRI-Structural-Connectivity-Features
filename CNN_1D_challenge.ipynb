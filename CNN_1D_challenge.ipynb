{
 "cells": [
  {
   "cell_type": "markdown",
   "metadata": {
    "tags": []
   },
   "source": [
    "# Brain Age Prediction Challenge using diffusion MRI structural connectivity features"
   ]
  },
  {
   "cell_type": "markdown",
   "metadata": {},
   "source": [
    "## Imports"
   ]
  },
  {
   "cell_type": "code",
   "execution_count": 1,
   "metadata": {},
   "outputs": [],
   "source": [
    "import warnings\n",
    "warnings.filterwarnings('ignore')"
   ]
  },
  {
   "cell_type": "code",
   "execution_count": 2,
   "metadata": {
    "tags": []
   },
   "outputs": [],
   "source": [
    "import pandas as pd\n",
    "import numpy as np\n",
    "import scipy.io\n",
    "import matplotlib.pyplot as plt\n",
    "from ipywidgets import widgets, interact\n",
    "import time\n",
    "\n",
    "from sklearn.preprocessing import OneHotEncoder\n",
    "from sklearn.metrics import mean_absolute_error\n",
    "from sklearn.preprocessing import normalize\n",
    "import seaborn as sns\n",
    "\n",
    "import torch\n",
    "from torch.utils.data import Dataset\n",
    "from torch.utils.data import DataLoader\n",
    "from torch.utils.data import random_split\n",
    "from torch import Tensor\n",
    "import torch.nn as nn\n",
    "from torch.nn import BatchNorm1d\n",
    "from torch.nn import Dropout\n",
    "from torch.nn import Sequential\n",
    "from torch.nn import Linear\n",
    "from torch.nn import Conv1d\n",
    "from torch.nn import MaxPool1d\n",
    "from torch.nn import LeakyReLU, ReLU\n",
    "from torch.nn import Softmax\n",
    "from torch.nn import Module\n",
    "from torch.nn import L1Loss\n",
    "from torch.optim import SGD, Adam, SparseAdam, AdamW\n",
    "from torch.optim.lr_scheduler import StepLR\n",
    "from torch.optim.lr_scheduler import ReduceLROnPlateau\n",
    "\n",
    "from torch.nn.init import kaiming_uniform_\n",
    "from torch.nn.init import xavier_uniform_\n",
    " \n",
    "import torchvision.transforms as transforms #para aplicar transformações (resize, data augmentation,...)\n",
    "from torchvision.datasets import MNIST\n",
    "from torchvision.transforms import Compose\n",
    "from torchvision.transforms import ToTensor\n",
    "from torchvision.transforms import Normalize\n",
    "from torchinfo import summary\n",
    "\n",
    "from IPython.display import display\n",
    "from livelossplot import PlotLosses\n",
    "from functools import reduce\n",
    "\n",
    "from captum.attr import FeaturePermutation, IntegratedGradients\n",
    "\n",
    "np.random.seed(0) \n",
    "torch.manual_seed(0)\n",
    "import random\n",
    "random.seed(0)"
   ]
  },
  {
   "cell_type": "markdown",
   "metadata": {},
   "source": [
    "## Constantes"
   ]
  },
  {
   "cell_type": "code",
   "execution_count": 3,
   "metadata": {},
   "outputs": [],
   "source": [
    "#path para guardar o dataset\n",
    "PATH_TRAIN = './train.csv'\n",
    "PATH_TEST = './test.csv'\n",
    "BATCH_SIZE = 5"
   ]
  },
  {
   "cell_type": "markdown",
   "metadata": {},
   "source": [
    "## Device Management"
   ]
  },
  {
   "cell_type": "code",
   "execution_count": 4,
   "metadata": {},
   "outputs": [
    {
     "name": "stdout",
     "output_type": "stream",
     "text": [
      "cuda\n"
     ]
    }
   ],
   "source": [
    "device = torch.device(\"cuda\" if torch.cuda.is_available() else \"cpu\")\n",
    "def get_default_device():\n",
    "    \"\"\"Pick GPU if available, else CPU\"\"\"\n",
    "    if torch.cuda.is_available():\n",
    "        return torch.device('cuda')\n",
    "    else:\n",
    "        return torch.device('cpu')\n",
    "\n",
    "def to_device(data, device):\n",
    "    \"\"\"Move tensor(s) to chosen device\"\"\"\n",
    "    if isinstance(data, (list,tuple)):\n",
    "        return [to_device(x, device) for x in data]\n",
    "    return data.to(device, non_blocking=True)\n",
    "\n",
    "class DeviceDataLoader():\n",
    "    \"\"\"Wrap a dataloader to move data to a device\"\"\"\n",
    "    def __init__(self, dl, device):\n",
    "        self.dl = dl\n",
    "        self.device = device\n",
    "        \n",
    "    def __iter__(self):\n",
    "        \"\"\"Yield a batch of data after moving it to device\"\"\"\n",
    "        for b in self.dl: \n",
    "            yield to_device(b, self.device)\n",
    "\n",
    "    def __len__(self):\n",
    "        \"\"\"Number of batches\"\"\"\n",
    "        return len(self.dl)\n",
    "\n",
    "device = get_default_device()\n",
    "print(device)"
   ]
  },
  {
   "cell_type": "markdown",
   "metadata": {
    "tags": []
   },
   "source": [
    "## 1. Preparar os Dados"
   ]
  },
  {
   "cell_type": "markdown",
   "metadata": {},
   "source": [
    "### 1.1 Leitura das matrizes de conetividade cerebral"
   ]
  },
  {
   "cell_type": "code",
   "execution_count": 5,
   "metadata": {},
   "outputs": [],
   "source": [
    "train_mat = scipy.io.loadmat('train_data.mat') \n",
    "test_mat = scipy.io.loadmat('test_data.mat') "
   ]
  },
  {
   "cell_type": "code",
   "execution_count": 6,
   "metadata": {},
   "outputs": [
    {
     "name": "stdout",
     "output_type": "stream",
     "text": [
      "dict_keys(['__header__', '__version__', '__globals__', 'train_data'])\n",
      "dict_keys(['__header__', '__version__', '__globals__', 'test_data'])\n",
      "(112, 90, 90)\n",
      "(28, 90, 90)\n"
     ]
    }
   ],
   "source": [
    "def get_data_from_mat(train_file,test_file):\n",
    "    train_mat = scipy.io.loadmat(train_file) \n",
    "    test_mat = scipy.io.loadmat(test_file) \n",
    "    print(train_mat.keys())\n",
    "    print(test_mat.keys())\n",
    "    train_np = np.array(train_mat['train_data']).transpose(2,0,1)\n",
    "    test_np = np.array(test_mat['test_data']).transpose(2,0,1)\n",
    "    train_np = np.float32(train_np)\n",
    "    test_np = np.float32(test_np)\n",
    "    print(train_np.shape)\n",
    "    print(test_np.shape)\n",
    "    return  train_np, test_np\n",
    "\n",
    "train_data, test_data = get_data_from_mat('train_data.mat','test_data.mat')"
   ]
  },
  {
   "cell_type": "code",
   "execution_count": 7,
   "metadata": {},
   "outputs": [
    {
     "name": "stdout",
     "output_type": "stream",
     "text": [
      "[[0.         0.         0.13152513 ... 0.         0.         0.        ]\n",
      " [0.         0.         0.         ... 0.         0.         0.        ]\n",
      " [0.13152513 0.         0.         ... 0.         0.         0.        ]\n",
      " ...\n",
      " [0.         0.         0.         ... 0.         0.         0.28060624]\n",
      " [0.         0.         0.         ... 0.         0.         0.        ]\n",
      " [0.         0.         0.         ... 0.28060624 0.         0.        ]]\n"
     ]
    }
   ],
   "source": [
    "print(train_data[0])"
   ]
  },
  {
   "cell_type": "code",
   "execution_count": 8,
   "metadata": {},
   "outputs": [
    {
     "data": {
      "text/html": [
       "<div>\n",
       "<style scoped>\n",
       "    .dataframe tbody tr th:only-of-type {\n",
       "        vertical-align: middle;\n",
       "    }\n",
       "\n",
       "    .dataframe tbody tr th {\n",
       "        vertical-align: top;\n",
       "    }\n",
       "\n",
       "    .dataframe thead th {\n",
       "        text-align: right;\n",
       "    }\n",
       "</style>\n",
       "<table border=\"1\" class=\"dataframe\">\n",
       "  <thead>\n",
       "    <tr style=\"text-align: right;\">\n",
       "      <th></th>\n",
       "      <th>label</th>\n",
       "      <th>list</th>\n",
       "    </tr>\n",
       "  </thead>\n",
       "  <tbody>\n",
       "    <tr>\n",
       "      <th>0</th>\n",
       "      <td>__header__</td>\n",
       "      <td>b'MATLAB 5.0 MAT-file, Platform: GLNXA64, Crea...</td>\n",
       "    </tr>\n",
       "    <tr>\n",
       "      <th>1</th>\n",
       "      <td>__version__</td>\n",
       "      <td>1.0</td>\n",
       "    </tr>\n",
       "    <tr>\n",
       "      <th>2</th>\n",
       "      <td>__globals__</td>\n",
       "      <td>[]</td>\n",
       "    </tr>\n",
       "    <tr>\n",
       "      <th>3</th>\n",
       "      <td>train_data</td>\n",
       "      <td>[[[0.0, 0.0, 0.0, 0.0, 0.0, 0.0, 0.0, 0.0, 0.0...</td>\n",
       "    </tr>\n",
       "  </tbody>\n",
       "</table>\n",
       "</div>"
      ],
      "text/plain": [
       "         label                                               list\n",
       "0   __header__  b'MATLAB 5.0 MAT-file, Platform: GLNXA64, Crea...\n",
       "1  __version__                                                1.0\n",
       "2  __globals__                                                 []\n",
       "3   train_data  [[[0.0, 0.0, 0.0, 0.0, 0.0, 0.0, 0.0, 0.0, 0.0..."
      ]
     },
     "execution_count": 8,
     "metadata": {},
     "output_type": "execute_result"
    }
   ],
   "source": [
    "mat = scipy.io.loadmat('train_data.mat')\n",
    "pqr=pd.Series(mat)\n",
    "pd.DataFrame({'label':pqr.index, 'list':pqr.values})"
   ]
  },
  {
   "cell_type": "code",
   "execution_count": 9,
   "metadata": {},
   "outputs": [
    {
     "name": "stdout",
     "output_type": "stream",
     "text": [
      "__header__     b'MATLAB 5.0 MAT-file, Platform: GLNXA64, Crea...\n",
      "__version__                                                  1.0\n",
      "__globals__                                                   []\n",
      "train_data     [[[0.0, 0.0, 0.0, 0.0, 0.0, 0.0, 0.0, 0.0, 0.0...\n",
      "dtype: object\n"
     ]
    }
   ],
   "source": [
    "print(pqr)"
   ]
  },
  {
   "cell_type": "markdown",
   "metadata": {},
   "source": [
    "### 1.2 Visualização das matrizes de conetividade cerebral"
   ]
  },
  {
   "cell_type": "code",
   "execution_count": 10,
   "metadata": {},
   "outputs": [
    {
     "name": "stdout",
     "output_type": "stream",
     "text": [
      "ds shape: (112, 90, 90)\n",
      "ds max: 1.0\n",
      "ds min: 0.0\n",
      "ds average: 0.024116168\n"
     ]
    },
    {
     "data": {
      "application/vnd.jupyter.widget-view+json": {
       "model_id": "509990dd611b4d1aaf0606fa904c8d0d",
       "version_major": 2,
       "version_minor": 0
      },
      "text/plain": [
       "interactive(children=(IntSlider(value=55, description='scan_index', max=111), Output()), _dom_classes=('widget…"
      ]
     },
     "metadata": {},
     "output_type": "display_data"
    }
   ],
   "source": [
    "def visualize(image):  \n",
    "    #plt.figure(\"sample\", (12, 6))\n",
    "    #plt.subplot(1, 2, 1)\n",
    "    plt.imshow(image, cmap=\"gray\")    \n",
    "    #plt.subplot(1, 2, 2)\n",
    "    #plt.imshow(image, cmap=\"gray\")\n",
    "    plt.show()      \n",
    "\n",
    "\n",
    "#@interact\n",
    "def show_ds(ds):\n",
    "    print(\"ds shape:\",ds.shape)\n",
    "    print(\"ds max:\",np.max(ds))\n",
    "    print(\"ds min:\",np.min(ds))\n",
    "    print(\"ds average:\",np.average(ds))\n",
    "    @interact\n",
    "    def visualize_set(scan_index=(0,len(ds)-1)):\n",
    "        #print(scan_index)\n",
    "        visualize(ds[scan_index,:,:])\n",
    "\n",
    "show_ds(train_data)"
   ]
  },
  {
   "cell_type": "code",
   "execution_count": 11,
   "metadata": {},
   "outputs": [
    {
     "name": "stdout",
     "output_type": "stream",
     "text": [
      "ds shape: (28, 90, 90)\n",
      "ds max: 1.0\n",
      "ds min: 0.0\n",
      "ds average: 0.024994023\n"
     ]
    },
    {
     "data": {
      "application/vnd.jupyter.widget-view+json": {
       "model_id": "8889fe642d0946beafcf1396d4e1c705",
       "version_major": 2,
       "version_minor": 0
      },
      "text/plain": [
       "interactive(children=(IntSlider(value=13, description='scan_index', max=27), Output()), _dom_classes=('widget-…"
      ]
     },
     "metadata": {},
     "output_type": "display_data"
    }
   ],
   "source": [
    "show_ds(test_data)"
   ]
  },
  {
   "cell_type": "markdown",
   "metadata": {},
   "source": [
    "### 1.3 Conversão das matrizes em arrays 1D e eliminação dos valores a zero"
   ]
  },
  {
   "cell_type": "code",
   "execution_count": 12,
   "metadata": {},
   "outputs": [
    {
     "name": "stdout",
     "output_type": "stream",
     "text": [
      "(112, 1202)\n",
      "1202\n"
     ]
    }
   ],
   "source": [
    "def convert1d_train(matrix):\n",
    "    \n",
    "    #Converter matriz triangular superior em array1D\n",
    "    vetores = []\n",
    "    for mat in matrix:\n",
    "        num = len(mat[0])\n",
    "        #Conversão da matriz em vetor1D\n",
    "        data = []\n",
    "        for row in range(0, len(mat)):\n",
    "            for column in range(row+1, num):\n",
    "                data.append(mat[row][column])\n",
    "        vetores.append(data)\n",
    "    \n",
    "    #Determinar as colunas que tem soma 0\n",
    "    somas_nulas = []\n",
    "    for mat_soma in vetores:\n",
    "        somas = []\n",
    "        for i, soma in enumerate(mat_soma):\n",
    "            if soma == 0:\n",
    "                somas.append(i)\n",
    "        somas_nulas.append(somas)\n",
    "        \n",
    "    #Identificação das colunas que são 0 em todos os pacientes\n",
    "    result = set.intersection(*map(set,somas_nulas))\n",
    "\n",
    "    #Eliminação das colunas iguais a 0 em todos os pacientes\n",
    "    for vetor in vetores:\n",
    "        for i in range(len(vetor) -1, -1, -1):\n",
    "            for col in result:\n",
    "                if i == col:\n",
    "                    del(vetor[i])\n",
    "                    \n",
    "    vetores = np.array(vetores) \n",
    "    vetores = np.float32(vetores)\n",
    "\n",
    "    ############### Montagem do dicionário ###############\n",
    "    #Guardar as posições das regiões cerebrais numa lista de dicionários\n",
    "    lista_dic = []\n",
    "    for mat in matrix:\n",
    "        num = len(mat[0])\n",
    "        dic = {}\n",
    "        #Guardar no dic na forma {\"linha : coluna\" = valor}\n",
    "        for row in range(0, len(mat)):\n",
    "            for column in range(row+1, num):\n",
    "                dic[f\"{row} : {column}\"] = mat[row][column]\n",
    "        lista_dic.append(dic)\n",
    "\n",
    "    #Eliminação dos valores que são nulos no dicionário\n",
    "    for dic in lista_dic:\n",
    "        for i, k in enumerate(list(dic.keys())):\n",
    "            for col in result:\n",
    "                if i == col:\n",
    "                    del dic[k]\n",
    "                    \n",
    "    print(vetores.shape)\n",
    "    print(len(lista_dic[0]))\n",
    "    return vetores, lista_dic, result\n",
    "\n",
    "train_data, lista_map_train, result = convert1d_train(train_data)"
   ]
  },
  {
   "cell_type": "code",
   "execution_count": 13,
   "metadata": {},
   "outputs": [
    {
     "name": "stdout",
     "output_type": "stream",
     "text": [
      "(28, 1202)\n",
      "1202\n"
     ]
    }
   ],
   "source": [
    "def convert1d_test(matrix, result):\n",
    "    \n",
    "    #Converter matriz triangular superior em array1D\n",
    "    vetores = []\n",
    "    for mat in matrix:\n",
    "        num = len(mat[0])\n",
    "        #Conversão da matriz em vetor1D\n",
    "        data = []\n",
    "        for row in range(0, len(mat)):\n",
    "            for column in range(row+1, num):\n",
    "                data.append(mat[row][column])\n",
    "        vetores.append(data)\n",
    "    \n",
    "    #Eliminação das colunas iguais a 0 em todos os pacientes e iguais às eliminadas \n",
    "    for vetor in vetores:\n",
    "        for i in range(len(vetor) -1, -1, -1):\n",
    "            for col in result:\n",
    "                if i == col:\n",
    "                    del(vetor[i])\n",
    "                    \n",
    "    vetores = np.array(vetores) \n",
    "    vetores = np.float32(vetores)\n",
    "    \n",
    "    ############### Montagem do dicionário ###############\n",
    "    #Guardar as posições das regiões cerebrais numa lista de dicionários\n",
    "    lista_dic = []\n",
    "    for mat in matrix:\n",
    "        num = len(mat[0])\n",
    "        dic = {}\n",
    "        #Guardar no dic na forma {\"linha : coluna\" = valor}\n",
    "        for row in range(0, len(mat)):\n",
    "            for column in range(row+1, num):\n",
    "                dic[f\"{row} : {column}\"] = mat[row][column]\n",
    "        lista_dic.append(dic)\n",
    "\n",
    "    #Eliminação dos valores que são nulos no dicionário\n",
    "    \n",
    "    for dic in lista_dic:\n",
    "        for i, k in enumerate(list(dic.keys())):\n",
    "            for col in result:\n",
    "                if i == col:\n",
    "                    del dic[k]\n",
    "                    \n",
    "    print(vetores.shape)\n",
    "    print(len(lista_dic[0]))\n",
    "    return vetores, lista_dic\n",
    "\n",
    "test_data, lista_map_test = convert1d_test(test_data, result)"
   ]
  },
  {
   "cell_type": "markdown",
   "metadata": {},
   "source": [
    "### 1.4 Preparação dos dataloaders"
   ]
  },
  {
   "cell_type": "code",
   "execution_count": 14,
   "metadata": {
    "tags": []
   },
   "outputs": [
    {
     "name": "stdout",
     "output_type": "stream",
     "text": [
      "Train\n",
      "torch.Size([5, 3]) torch.Size([5, 1, 1202]) torch.Size([5])\n",
      "torch.Size([5, 3]) torch.Size([5, 1, 1202]) torch.Size([5])\n",
      "Val\n",
      "torch.Size([5, 3]) torch.Size([5, 1, 1202]) torch.Size([5])\n",
      "torch.Size([5, 3]) torch.Size([5, 1, 1202]) torch.Size([5])\n"
     ]
    }
   ],
   "source": [
    "class CSVDataset(Dataset):\n",
    "    # ler o dataset\n",
    "    def __init__(self, path_train, path_test):\n",
    "\n",
    "        # ler o ficheiro csv para um dataframe\n",
    "        df_train = pd.read_csv(path_train, header=0)\n",
    "        df_test = pd.read_csv(path_test, header=0)\n",
    "        \n",
    "        #Normalização da coluna da education\n",
    "        df_train[\"education\"] = (df_train[\"education\"] - df_train[\"education\"].min()) / (df_train[\"education\"].max() - df_train[\"education\"].min())    \n",
    "        df_test[\"education\"] = (df_test[\"education\"] - df_test[\"education\"].min()) / (df_test[\"education\"].max() - df_test[\"education\"].min())    \n",
    "        \n",
    "        #creating instance of one-hot-encoder\n",
    "        encoder = OneHotEncoder(handle_unknown='ignore')\n",
    "\n",
    "        #perform one-hot encoding on 'sex' column \n",
    "        encoder_df_train = pd.DataFrame(encoder.fit_transform(df_train[['sex']]).toarray())\n",
    "        encoder_df_test = pd.DataFrame(encoder.fit_transform(df_test[['sex']]).toarray())\n",
    "\n",
    "        #merge one-hot encoded columns back with original DataFrame\n",
    "        df_train = df_train.join(encoder_df_train)\n",
    "        df_test = df_test.join(encoder_df_test)\n",
    "        \n",
    "        #drop 'sex' column\n",
    "        df_train.drop('sex', axis=1, inplace=True)\n",
    "        df_test.drop('sex', axis=1, inplace=True)\n",
    "    \n",
    "        # separar os inputs e os outputs\n",
    "        self.train = df_train.values[:, 2:]\n",
    "        self.y = df_train.values[:,1]\n",
    "        self.test = df_test.values[:, 1:]\n",
    "    \n",
    "        # garantir que os inputs e labels sejam floats \n",
    "        self.train = self.train.astype('float32')\n",
    "        self.y = self.y.astype('float32')\n",
    "        self.test = self.test.astype('float32')\n",
    "\n",
    "    # número de casos no dataset\n",
    "    def __len__(self):\n",
    "        return len(self.x)\n",
    "    \n",
    "    # retornar um caso\n",
    "    def __getitem_test__(self, idx):\n",
    "        return [self.test[idx]]\n",
    "    \n",
    "    # retornar índices para casos de treino e de teste em formato flat (vetor)\n",
    "    def get_splits_flat(self, train_data, test_data):\n",
    "        #Dados do excel\n",
    "        train = torch.from_numpy(np.array(self.train))\n",
    "        y = torch.from_numpy(np.array(self.y))\n",
    "        test = torch.from_numpy(np.array(self.test))\n",
    "\n",
    "        #Dados das matrizes\n",
    "        train_data = train_data.reshape(len(train_data), 1, 1202) \n",
    "        train_data  = torch.from_numpy(train_data)\n",
    "        test_data = test_data.reshape(len(test_data), 1, 1202) \n",
    "        test_data  = torch.from_numpy(test_data)\n",
    "        \n",
    "        train = torch.utils.data.TensorDataset(train, train_data, y)\n",
    "        test = torch.utils.data.TensorDataset(test, test_data)\n",
    "        \n",
    "        return train, test\n",
    "    \n",
    "def prepare_data_loaders(path_train, path_test, train_data, test_data):\n",
    "    # criar uma instância do dataset\n",
    "    dataset = CSVDataset(path_train, path_test)\n",
    "    # calcular split\n",
    "    train, test = dataset.get_splits_flat(train_data, test_data)\n",
    "    \n",
    "    #separação de treino e validação\n",
    "    train_size = int(0.9 * len(train))\n",
    "    val_size = len(train) - train_size\n",
    "    train, validation  = random_split(train, [train_size, val_size], generator=torch.Generator().manual_seed(42))\n",
    "\n",
    "    # preparar data loaders\n",
    "    train_dl = DataLoader(train, batch_size=BATCH_SIZE, shuffle=True) #112 len(train)\n",
    "    val_dl = DataLoader(validation, batch_size=BATCH_SIZE, shuffle=True)\n",
    "    test_dl = DataLoader(test, batch_size=BATCH_SIZE, shuffle=True)\n",
    "    train_dl_all = DataLoader(train, batch_size=len(train), shuffle=False)\n",
    "    val_dl_all = DataLoader(validation, batch_size=len(validation), shuffle=True)\n",
    "    test_dl_all = DataLoader(test, batch_size=len(test), shuffle=False)\n",
    "\n",
    "    return train_dl, val_dl, test_dl, train_dl_all, val_dl_all, test_dl_all\n",
    "\n",
    "# preparar os dados\n",
    "train_dl, val_dl, test_dl, train_dl_all, val_dl_all, test_dl_all = prepare_data_loaders(PATH_TRAIN, PATH_TEST, train_data, test_data)\n",
    "# sanity check\n",
    "print(\"Train\")\n",
    "train,train_data, y = next(iter(train_dl))\n",
    "print(train.shape, train_data.shape, y.shape)\n",
    "train, train_data, y = next(iter(train_dl))\n",
    "print(train.shape, train_data.shape, y.shape)\n",
    "\n",
    "print(\"Val\")\n",
    "train,train_data, y = next(iter(val_dl))\n",
    "print(train.shape, train_data.shape, y.shape)\n",
    "train, train_data, y = next(iter(val_dl))\n",
    "print(train.shape, train_data.shape, y.shape)"
   ]
  },
  {
   "cell_type": "markdown",
   "metadata": {
    "tags": []
   },
   "source": [
    "## 2. Visualizar os Dados"
   ]
  },
  {
   "cell_type": "code",
   "execution_count": 15,
   "metadata": {},
   "outputs": [
    {
     "data": {
      "text/html": [
       "<div>\n",
       "<style scoped>\n",
       "    .dataframe tbody tr th:only-of-type {\n",
       "        vertical-align: middle;\n",
       "    }\n",
       "\n",
       "    .dataframe tbody tr th {\n",
       "        vertical-align: top;\n",
       "    }\n",
       "\n",
       "    .dataframe thead th {\n",
       "        text-align: right;\n",
       "    }\n",
       "</style>\n",
       "<table border=\"1\" class=\"dataframe\">\n",
       "  <thead>\n",
       "    <tr style=\"text-align: right;\">\n",
       "      <th></th>\n",
       "      <th>id</th>\n",
       "      <th>age</th>\n",
       "      <th>sex</th>\n",
       "      <th>education</th>\n",
       "    </tr>\n",
       "  </thead>\n",
       "  <tbody>\n",
       "    <tr>\n",
       "      <th>0</th>\n",
       "      <td>1</td>\n",
       "      <td>13</td>\n",
       "      <td>1</td>\n",
       "      <td>7</td>\n",
       "    </tr>\n",
       "    <tr>\n",
       "      <th>1</th>\n",
       "      <td>2</td>\n",
       "      <td>14</td>\n",
       "      <td>0</td>\n",
       "      <td>8</td>\n",
       "    </tr>\n",
       "    <tr>\n",
       "      <th>2</th>\n",
       "      <td>3</td>\n",
       "      <td>15</td>\n",
       "      <td>1</td>\n",
       "      <td>9</td>\n",
       "    </tr>\n",
       "    <tr>\n",
       "      <th>3</th>\n",
       "      <td>4</td>\n",
       "      <td>15</td>\n",
       "      <td>1</td>\n",
       "      <td>9</td>\n",
       "    </tr>\n",
       "    <tr>\n",
       "      <th>4</th>\n",
       "      <td>5</td>\n",
       "      <td>15</td>\n",
       "      <td>1</td>\n",
       "      <td>9</td>\n",
       "    </tr>\n",
       "    <tr>\n",
       "      <th>...</th>\n",
       "      <td>...</td>\n",
       "      <td>...</td>\n",
       "      <td>...</td>\n",
       "      <td>...</td>\n",
       "    </tr>\n",
       "    <tr>\n",
       "      <th>107</th>\n",
       "      <td>108</td>\n",
       "      <td>77</td>\n",
       "      <td>1</td>\n",
       "      <td>4</td>\n",
       "    </tr>\n",
       "    <tr>\n",
       "      <th>108</th>\n",
       "      <td>109</td>\n",
       "      <td>67</td>\n",
       "      <td>0</td>\n",
       "      <td>4</td>\n",
       "    </tr>\n",
       "    <tr>\n",
       "      <th>109</th>\n",
       "      <td>110</td>\n",
       "      <td>55</td>\n",
       "      <td>0</td>\n",
       "      <td>4</td>\n",
       "    </tr>\n",
       "    <tr>\n",
       "      <th>110</th>\n",
       "      <td>111</td>\n",
       "      <td>76</td>\n",
       "      <td>1</td>\n",
       "      <td>3</td>\n",
       "    </tr>\n",
       "    <tr>\n",
       "      <th>111</th>\n",
       "      <td>112</td>\n",
       "      <td>69</td>\n",
       "      <td>0</td>\n",
       "      <td>4</td>\n",
       "    </tr>\n",
       "  </tbody>\n",
       "</table>\n",
       "<p>112 rows × 4 columns</p>\n",
       "</div>"
      ],
      "text/plain": [
       "      id  age  sex  education\n",
       "0      1   13    1          7\n",
       "1      2   14    0          8\n",
       "2      3   15    1          9\n",
       "3      4   15    1          9\n",
       "4      5   15    1          9\n",
       "..   ...  ...  ...        ...\n",
       "107  108   77    1          4\n",
       "108  109   67    0          4\n",
       "109  110   55    0          4\n",
       "110  111   76    1          3\n",
       "111  112   69    0          4\n",
       "\n",
       "[112 rows x 4 columns]"
      ]
     },
     "metadata": {},
     "output_type": "display_data"
    },
    {
     "name": "stdout",
     "output_type": "stream",
     "text": [
      "Quantidade de casos de Treino:100\n",
      "Quantidade de casos de Validação:12\n",
      "Quantidade de casos de Teste:28\n",
      "Shape tensor batch casos treino, input: torch.Size([5, 3]), torch.Size([5, 1, 1202]), output: torch.Size([5])\n",
      "Shape tensor batch casos validação, input: torch.Size([5, 3]), torch.Size([5, 1, 1202]), output: torch.Size([5])\n",
      "Valor máximo no train:1.0 Valor mínimo:0.0\n",
      "Valor máximo na matriz :1.0 Valor mínimo:0.0\n",
      "Valor máximo na idade :64.0 Valor mínimo:16.0\n",
      "Valor máximo no train:1.0 Valor mínimo:0.0\n",
      "Valor máximo na matriz:1.0 Valor mínimo:0.0\n",
      "tensor([53., 33., 16., 64., 24.])\n"
     ]
    }
   ],
   "source": [
    "def visualize_data(path):\n",
    "    # criar uma instância do dataset\n",
    "    df = pd.read_csv(path, header=0)\n",
    "    display(df)\n",
    "\n",
    "def visualize_dataset(train_dl, test_dl):\n",
    "     \n",
    "    print(f\"Quantidade de casos de Treino:{len(train_dl.dataset)}\") \n",
    "    print(f\"Quantidade de casos de Validação:{len(val_dl.dataset)}\")\n",
    "    print(f\"Quantidade de casos de Teste:{len(test_dl.dataset)}\")\n",
    "    train, train_data, y = next(iter(train_dl)) #fazer uma iteração nos loaders para ir buscar um batch de casos\n",
    "    print(f\"Shape tensor batch casos treino, input: {train.shape}, {train_data.shape}, output: {y.shape}\")\n",
    "    train, train_data, y = next(iter(val_dl)) #fazer uma iteração nos loaders para ir buscar um batch de casos\n",
    "    print(f\"Shape tensor batch casos validação, input: {train.shape}, {train_data.shape}, output: {y.shape}\")\n",
    "    print(f'Valor máximo no train:{torch.max(train)} Valor mínimo:{torch.min(train)}')\n",
    "    print(f'Valor máximo na matriz :{torch.max(train_data)} Valor mínimo:{torch.min(train_data)}')\n",
    "    print(f'Valor máximo na idade :{torch.max(y)} Valor mínimo:{torch.min(y)}')\n",
    "    train=train.detach().numpy()\n",
    "    train_data=train_data.detach().numpy()\n",
    "    print(f'Valor máximo no train:{np.max(train)} Valor mínimo:{np.min(train)}')\n",
    "    print(f'Valor máximo na matriz:{np.max(train_data)} Valor mínimo:{np.min(train_data)}')\n",
    "    print(y)\n",
    "    \n",
    "visualize_data(PATH_TRAIN)\n",
    "visualize_dataset(train_dl, test_dl)"
   ]
  },
  {
   "cell_type": "markdown",
   "metadata": {
    "tags": []
   },
   "source": [
    "## 3. Verificar balanceamento do dataset"
   ]
  },
  {
   "cell_type": "code",
   "execution_count": 16,
   "metadata": {},
   "outputs": [
    {
     "name": "stdout",
     "output_type": "stream",
     "text": [
      "casos_treino:  100\n",
      "Média_valores_label_Train:  44.03\n",
      "casos_validacao:  12\n",
      "Média_valores_label_Val:  46.666668\n"
     ]
    },
    {
     "data": {
      "image/png": "[encoded data removed]",
      "text/plain": [
       "<Figure size 432x288 with 1 Axes>"
      ]
     },
     "metadata": {},
     "output_type": "display_data"
    }
   ],
   "source": [
    "def visualize_holdout_balance(y_train, y_test, val_test):\n",
    "    _, _, y_train = next(iter(train_dl_all))\n",
    "    _, _, y_val = next(iter(val_dl_all))\n",
    "    sns.set_style('whitegrid')\n",
    "    casos_treino=len(y_train) \n",
    "    casos_validacao=len(y_val)\n",
    "    print(\"casos_treino: \",casos_treino)\n",
    "    print(\"Média_valores_label_Train: \", np.mean(y_train.numpy()))\n",
    "    print(\"casos_validacao: \",casos_validacao)\n",
    "    print(\"Média_valores_label_Val: \", np.mean(y_val.numpy()))\n",
    "    grafico=sns.barplot(x=['Média valores nos casos treino', 'Média valores nos casos validacao'], \n",
    "    y=[np.mean(y_train.numpy()), np.mean(y_val.numpy())])\n",
    "    grafico.set_title('Data balance ')\n",
    "    plt.xticks(rotation=70)\n",
    "    plt.tight_layout()\n",
    "    #plt.savefig('data_balance_MLP.png')\n",
    "    plt.show() \n",
    "\n",
    "visualize_holdout_balance(train_dl, test_dl, val_dl)"
   ]
  },
  {
   "cell_type": "markdown",
   "metadata": {
    "tags": []
   },
   "source": [
    "## 4. Definir o Modelo"
   ]
  },
  {
   "cell_type": "code",
   "execution_count": 18,
   "metadata": {},
   "outputs": [
    {
     "name": "stdout",
     "output_type": "stream",
     "text": [
      "==========================================================================================\n",
      "Layer (type:depth-idx)                   Output Shape              Param #\n",
      "==========================================================================================\n",
      "CNNModel                                 [5, 1]                    --\n",
      "├─Sequential: 1-1                        [5, 50, 600]              --\n",
      "│    └─Conv1d: 2-1                       [5, 50, 1200]             200\n",
      "│    └─ReLU: 2-2                         [5, 50, 1200]             --\n",
      "│    └─MaxPool1d: 2-3                    [5, 50, 600]              --\n",
      "├─Sequential: 1-2                        [5, 100, 299]             --\n",
      "│    └─Conv1d: 2-4                       [5, 100, 598]             15,100\n",
      "│    └─ReLU: 2-5                         [5, 100, 598]             --\n",
      "│    └─MaxPool1d: 2-6                    [5, 100, 299]             --\n",
      "├─Sequential: 1-3                        [5, 200, 148]             --\n",
      "│    └─Conv1d: 2-7                       [5, 200, 297]             60,200\n",
      "│    └─ReLU: 2-8                         [5, 200, 297]             --\n",
      "│    └─MaxPool1d: 2-9                    [5, 200, 148]             --\n",
      "├─Sequential: 1-4                        [5, 200, 73]              --\n",
      "│    └─Conv1d: 2-10                      [5, 200, 146]             120,200\n",
      "│    └─ReLU: 2-11                        [5, 200, 146]             --\n",
      "│    └─MaxPool1d: 2-12                   [5, 200, 73]              --\n",
      "├─Sequential: 1-5                        [5, 200, 35]              --\n",
      "│    └─Conv1d: 2-13                      [5, 200, 71]              120,200\n",
      "│    └─ReLU: 2-14                        [5, 200, 71]              --\n",
      "│    └─MaxPool1d: 2-15                   [5, 200, 35]              --\n",
      "├─Linear: 1-6                            [5, 10]                   70,040\n",
      "├─ReLU: 1-7                              [5, 10]                   --\n",
      "├─Linear: 1-8                            [5, 1]                    11\n",
      "==========================================================================================\n",
      "Total params: 385,951\n",
      "Trainable params: 385,951\n",
      "Non-trainable params: 0\n",
      "Total mult-adds (M): 266.51\n",
      "==========================================================================================\n",
      "Input size (MB): 0.02\n",
      "Forward/backward pass size (MB): 8.90\n",
      "Params size (MB): 1.54\n",
      "Estimated Total Size (MB): 10.47\n",
      "==========================================================================================\n"
     ]
    },
    {
     "data": {
      "text/plain": [
       "CNNModel(\n",
       "  (layer1): Sequential(\n",
       "    (0): Conv1d(1, 50, kernel_size=(3,), stride=(1,))\n",
       "    (1): ReLU()\n",
       "    (2): MaxPool1d(kernel_size=2, stride=2, padding=0, dilation=1, ceil_mode=False)\n",
       "  )\n",
       "  (layer2): Sequential(\n",
       "    (0): Conv1d(50, 100, kernel_size=(3,), stride=(1,))\n",
       "    (1): ReLU()\n",
       "    (2): MaxPool1d(kernel_size=2, stride=2, padding=0, dilation=1, ceil_mode=False)\n",
       "  )\n",
       "  (layer3): Sequential(\n",
       "    (0): Conv1d(100, 200, kernel_size=(3,), stride=(1,))\n",
       "    (1): ReLU()\n",
       "    (2): MaxPool1d(kernel_size=2, stride=2, padding=0, dilation=1, ceil_mode=False)\n",
       "  )\n",
       "  (layer4): Sequential(\n",
       "    (0): Conv1d(200, 200, kernel_size=(3,), stride=(1,))\n",
       "    (1): ReLU()\n",
       "    (2): MaxPool1d(kernel_size=2, stride=2, padding=0, dilation=1, ceil_mode=False)\n",
       "  )\n",
       "  (layer5): Sequential(\n",
       "    (0): Conv1d(200, 200, kernel_size=(3,), stride=(1,))\n",
       "    (1): ReLU()\n",
       "    (2): MaxPool1d(kernel_size=2, stride=2, padding=0, dilation=1, ceil_mode=False)\n",
       "  )\n",
       "  (fc1): Linear(in_features=7003, out_features=10, bias=True)\n",
       "  (act1): ReLU()\n",
       "  (fc5): Linear(in_features=10, out_features=1, bias=True)\n",
       ")"
      ]
     },
     "execution_count": 18,
     "metadata": {},
     "output_type": "execute_result"
    }
   ],
   "source": [
    "# Definição classe para o modelo\n",
    "class CNNModel(Module):\n",
    "    # definir elementos do modelo\n",
    "    def __init__(self):\n",
    "        super(CNNModel, self).__init__()\n",
    "        self.layer1 = Sequential(Conv1d(in_channels=1, out_channels=50, kernel_size=3),\n",
    "                                 ReLU(),\n",
    "                                 MaxPool1d(kernel_size=2, stride=2)           \n",
    "                                ) \n",
    "        self.layer2 = Sequential(Conv1d(in_channels=50, out_channels=100, kernel_size=3),\n",
    "                                 ReLU(),\n",
    "                                 MaxPool1d(kernel_size=2, stride=2)           \n",
    "                                )\n",
    "        self.layer3 = Sequential(Conv1d(in_channels=100, out_channels=200, kernel_size=3),\n",
    "                                 ReLU(),\n",
    "                                 MaxPool1d(kernel_size=2, stride=2)           \n",
    "                                )\n",
    "        self.layer4 = Sequential(Conv1d(in_channels=200, out_channels=200, kernel_size=3),\n",
    "                                 ReLU(),\n",
    "                                 MaxPool1d(kernel_size=2, stride=2)           \n",
    "                                )\n",
    "        self.layer5 = Sequential(Conv1d(in_channels=200, out_channels=200, kernel_size=3),\n",
    "                                 ReLU(),\n",
    "                                 MaxPool1d(kernel_size=2, stride=2)           \n",
    "                                )\n",
    "        #MultiLayer Perceptron\n",
    "        #São 32 pois saem 32 canais. É 5*5, 28-2kernel(layer1)/2stride = 13-2 = 11/2 = 5.5 = 5\n",
    "        #self.drop1 = nn.Dropout(0.30)\n",
    "        self.fc1 = Linear(in_features=7003, out_features=10) \n",
    "        kaiming_uniform_(self.fc1.weight, nonlinearity='relu')\n",
    "        self.act1 = ReLU()\n",
    "        #self.drop2 = nn.Dropout(0.30)\n",
    "        self.fc5 = Linear(10, 1)\n",
    "        \n",
    "    def forward(self, train, train_data):\n",
    "        out = self.layer1(train_data)\n",
    "        out = self.layer2(out)\n",
    "        out = self.layer3(out)\n",
    "        out = self.layer4(out)\n",
    "        out = self.layer5(out)\n",
    "        out = out.view(out.size(0), -1) \n",
    "        out = torch.cat([out, train], 1) \n",
    "        #out = self.drop1(out)\n",
    "        #print(\"out4\", out.shape)\n",
    "        out = self.fc1(out)\n",
    "        #print(\"out5\", out.shape)\n",
    "        out = self.act1(out)\n",
    "        #print(\"out6\", out.shape)\n",
    "        #out = self.drop2(out)\n",
    "        out = self.fc5(out) \n",
    "        return out\n",
    "\n",
    "# definir a rede neuronal\n",
    "model = CNNModel()\n",
    "# visualizar a rede\n",
    "print(summary(model, input_size=((BATCH_SIZE,3), (BATCH_SIZE,1, 1202)), verbose=0)) \n",
    "model.to(device)"
   ]
  },
  {
   "cell_type": "markdown",
   "metadata": {
    "tags": []
   },
   "source": [
    "## 5. Treinar o Modelo"
   ]
  },
  {
   "cell_type": "code",
   "execution_count": 19,
   "metadata": {
    "tags": []
   },
   "outputs": [],
   "source": [
    "def train_model(h5_file, train_dl, val_dl, model, criterion, optimizer, scheduler):\n",
    "    liveloss = PlotLosses()\n",
    "    for epoch in range(EPOCHS):\n",
    "        logs = {} ##para o livelossplot\n",
    "        #Train phase\n",
    "        model.train() \n",
    "        running_loss  = 0.0\n",
    "        for inputs, train_data, labels in train_dl: \n",
    "            inputs = inputs.to(device)\n",
    "            train_data = train_data.to(device)\n",
    "            labels = labels.to(device)\n",
    "            outputs = model(inputs, train_data)\n",
    "            loss = criterion(outputs, labels)\n",
    "            optimizer.zero_grad()\n",
    "            loss.backward()\n",
    "            optimizer.step()\n",
    "            running_loss += loss.detach() * inputs.size(0) #multiplico por inputs.size(0) que é o batch desta iteração\n",
    "        epoch_loss = running_loss / len(train_dl.dataset)\n",
    "        logs['loss'] = epoch_loss.item()\n",
    "            \n",
    "        #Validation phase\n",
    "        model.eval() \n",
    "        running_loss  = 0.0\n",
    "        for inputs, train_data, labels in val_dl: \n",
    "            inputs = inputs.to(device)\n",
    "            train_data = train_data.to(device)\n",
    "            labels = labels.to(device)\n",
    "            outputs = model(inputs, train_data)\n",
    "            loss = criterion(outputs, labels)\n",
    "            running_loss += loss.detach() * inputs.size(0) #multiplico por inputs.size(0) que é o batch desta iteração\n",
    "        epoch_loss = running_loss / len(val_dl.dataset)\n",
    "        logs['val_loss'] = epoch_loss.item()\n",
    "        scheduler.step(epoch_loss) \n",
    "        epoch_lr = optimizer.param_groups[0]['lr'] \n",
    "        logs['val_lr'] = epoch_lr\n",
    "        liveloss.update(logs)\n",
    "        liveloss.send()\n",
    "    torch.save(model,h5_file) "
   ]
  },
  {
   "cell_type": "code",
   "execution_count": 20,
   "metadata": {},
   "outputs": [
    {
     "data": {
      "image/png": "[encoded data removed]",
      "text/plain": [
       "<Figure size 864x576 with 2 Axes>"
      ]
     },
     "metadata": {},
     "output_type": "display_data"
    },
    {
     "name": "stdout",
     "output_type": "stream",
     "text": [
      "Loss\n",
      "\ttraining         \t (min:   20.794, max:   35.466, cur:   21.388)\n",
      "\tvalidation       \t (min:   18.459, max:   29.158, cur:   18.686)\n",
      "lr\n",
      "\tval_lr           \t (min:    0.001, max:    0.001, cur:    0.001)\n",
      "Tempo gasto: 78.21068323496729 segundos\n"
     ]
    }
   ],
   "source": [
    "#treino do modelo CNNModel_1\n",
    "EPOCHS = 100\n",
    "LEARNING_RATE = 0.001\n",
    "criterion = L1Loss() \n",
    "#optimizer = ASGD(model.parameters(), lr=LEARNING_RATE)\n",
    "#optimizer = SGD(model.parameters(), lr=LEARNING_RATE, momentum=0.9)\n",
    "#optimizer = SparseAdam(model.parameters(), lr=LEARNING_RATE)\n",
    "#optimizer = Adam(model.parameters(), lr=LEARNING_RATE)\n",
    "optimizer = AdamW(model.parameters(), lr=LEARNING_RATE)\n",
    "scheduler = ReduceLROnPlateau(optimizer, 'min', factor=0.95, patience=20)\n",
    "starttime = time.perf_counter()\n",
    "train_model('CNNModel_1.pth', train_dl, val_dl, model, criterion, optimizer, scheduler)\n",
    "endtime = time.perf_counter()\n",
    "print(f\"Tempo gasto: {endtime - starttime} segundos\")"
   ]
  },
  {
   "cell_type": "markdown",
   "metadata": {},
   "source": [
    "## 6. Testar o Modelo"
   ]
  },
  {
   "cell_type": "code",
   "execution_count": null,
   "metadata": {
    "tags": []
   },
   "outputs": [],
   "source": [
    "# Avaliar o modelo\n",
    "def predict(test_dl, model):\n",
    "    predictions = []\n",
    "    previsoes = []\n",
    "    for inputs, test_data in test_dl:\n",
    "        # avaliar o modelo com os casos de teste\n",
    "        inputs = inputs.to(device)\n",
    "        test_data = test_data.to(device)\n",
    "        yprev = model(inputs, test_data)\n",
    "        \n",
    "        # retirar o array numpy\n",
    "        yprev = yprev.detach().cpu().numpy()\n",
    "\n",
    "        # reshape for stacking\n",
    "        yprev = yprev.reshape((len(yprev), 1))\n",
    "        \n",
    "        # guardar\n",
    "        predictions.append(yprev)\n",
    "\n",
    "    predictions = np.vstack(predictions)\n",
    "    \n",
    "    for i in predictions:\n",
    "        previsoes.append(i[0])\n",
    "    previsoes = np.array(previsoes)\n",
    "    \n",
    "    return previsoes\n",
    "\n",
    "# testar o modelo\n",
    "predictions = predict(test_dl, model)\n",
    "print(\"Previsão\", predictions)"
   ]
  },
  {
   "cell_type": "code",
   "execution_count": null,
   "metadata": {},
   "outputs": [],
   "source": [
    "#Guardar os resultados num csv\n",
    "ids = np.arange(1,29,1)\n",
    "\n",
    "df = pd.DataFrame({\"id\" : ids, \"age\" : predictions})\n",
    "df.to_csv(\"results.csv\", index=False)"
   ]
  },
  {
   "cell_type": "markdown",
   "metadata": {},
   "source": [
    "## 7. Feature importance"
   ]
  },
  {
   "cell_type": "code",
   "execution_count": null,
   "metadata": {},
   "outputs": [],
   "source": [
    "ig = IntegratedGradients(model)\n",
    "\n",
    "for inputs, train_data, labels in train_dl:\n",
    "    inputs = inputs.requires_grad_().cuda()\n",
    "    train_data = train_data.requires_grad_().cuda()\n",
    "    labels = labels.requires_grad_().cuda()\n",
    "    attr, delta = ig.attribute((inputs, train_data),target=labels, return_convergence_delta=True)\n",
    "    attr = attr.detach().numpy()"
   ]
  },
  {
   "cell_type": "code",
   "execution_count": null,
   "metadata": {},
   "outputs": [],
   "source": [
    "feature_perm = FeaturePermutation(model)\n",
    "\n",
    "for inputs, train_data, labels in train_dl:\n",
    "    inputs = inputs.long().cuda().float()\n",
    "    train_data = train_data.long().cuda().float()\n",
    "    labels = labels.cuda().long()\n",
    "    attr = feature_perm.attribute((inputs, train_data), target=labels)"
   ]
  },
  {
   "cell_type": "code",
   "execution_count": null,
   "metadata": {},
   "outputs": [],
   "source": []
  }
 ],
 "metadata": {
  "kernelspec": {
   "display_name": "Python 3 (ipykernel)",
   "language": "python",
   "name": "python3"
  },
  "language_info": {
   "codemirror_mode": {
    "name": "ipython",
    "version": 3
   },
   "file_extension": ".py",
   "mimetype": "text/x-python",
   "name": "python",
   "nbconvert_exporter": "python",
   "pygments_lexer": "ipython3",
   "version": "3.9.7"
  }
 },
 "nbformat": 4,
 "nbformat_minor": 4
}
